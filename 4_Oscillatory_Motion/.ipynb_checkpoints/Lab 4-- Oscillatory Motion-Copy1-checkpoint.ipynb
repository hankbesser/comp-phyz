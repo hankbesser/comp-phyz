{
 "cells": [
  {
   "cell_type": "markdown",
   "metadata": {},
   "source": [
    "Henry Besser\n",
    "\n",
    "\n",
    "UIN: 658094513\n",
    "\n",
    "\n",
    "Due Date: 10/17/2016"
   ]
  },
  {
   "cell_type": "markdown",
   "metadata": {},
   "source": [
    "Importing the NumPy and PlyPlot modules and assigning them shorter, more useable aliases (i.e. np and plt, respectively). Also making sure the figures show up inline using a magic function (%matplotlib inline) for overall coherency of the report."
   ]
  },
  {
   "cell_type": "code",
   "execution_count": 1,
   "metadata": {
    "collapsed": true
   },
   "outputs": [],
   "source": [
    "import numpy as np\n",
    "import matplotlib.pyplot as plt\n",
    "%matplotlib inline"
   ]
  },
  {
   "cell_type": "markdown",
   "metadata": {},
   "source": [
    "#### Problem under study: \n",
    "\n",
    "Solving the pendulum system, where,\n",
    "\n",
    "$$ Equation 1: \\frac{d^2\\theta}{dt^2} =  \\frac{-g}{l}sin(\\theta) $$\n",
    "\n",
    "and writing a script to solve the equations:\n",
    "\n",
    "$$ \\\\Equation 2: \\\\\\frac{d\\theta}{dt} =  \\omega \\\\\\frac{d\\omega}{dt} = \\frac{-g}{l}sin(\\theta) $$\n"
   ]
  },
  {
   "cell_type": "markdown",
   "metadata": {},
   "source": [
    "where $\\theta$ is the angular displacement from vertical, $\\frac{d\\theta}{dt} =  \\omega$ is the angular velocity, and $\\frac{d\\omega}{dt} = \\frac{-g}{l}sin(\\theta)$ is the angular acceleration."
   ]
  },
  {
   "cell_type": "markdown",
   "metadata": {
    "collapsed": true
   },
   "source": [
    "$g = 9.81 m/s^2$ and as given, $l = 1m$. In the first part of the lab we, ther is an comparison of what happens when changing the initial angular displacement angle $\\theta_{0}$ with the initial angular velocity $\\omega_{0}$ equal to 0 "
   ]
  },
  {
   "cell_type": "markdown",
   "metadata": {},
   "source": [
    "Assuming zero friction at the top mount of the pendulum, no atmospheric drag, the simple problem is modeled with Equations 1-3. The only force is gravity, g, and the first goal is to investigate the relationship between and \n",
    "#the amplitude and period of the oscillation"
   ]
  },
  {
   "cell_type": "markdown",
   "metadata": {},
   "source": [
    "#### The Euler-Cromer Method:\n",
    "\n",
    "A slight modification of the euler equations equation (used in previous labs), allows an improvement in the local error for the the problem at hand. The total energy in the simple pendulum system should remain constant (since it is a\n",
    "conservative system), where \n",
    "\n",
    " $$Equation 4: E = \\frac{1}{2}ml^2 \\omega^2 - mgl(1-cos(\\theta)$$\n",
    "\n",
    "\n",
    "Total energy conservation of the system the Euler-Cromer method, however, using the Euler method, as seen in the lab, the total energy monotoically increases in time when the system is solved.\n",
    "With the EULER-CROMER method total energy is not constant (the energy changes by a term proportional to dt2 at each time step),  BUT the term constatly positive.  In fact, for the harmonic oscillator, the dt2 term oscillates over a cycle and gives a zero total contribution. Therefore, the total energy is conserved.  \n",
    "\n",
    "The scripts below throughly explain the euler method below and fully explain the methodoligy and details of this lab.\n",
    "\n"
   ]
  },
  {
   "cell_type": "markdown",
   "metadata": {
    "collapsed": true
   },
   "source": [
    "#### Methods and Thorough Descriptions in the Code"
   ]
  },
  {
   "cell_type": "code",
   "execution_count": 2,
   "metadata": {
    "collapsed": true
   },
   "outputs": [],
   "source": [
    "def pendulum_euler_cromer(theta0, omega0, length, time0, time_f, dt):\n",
    "    \"\"\"\n",
    "    Numerical solutions to the simple ossilatory motion problem.\n",
    "    \n",
    "    Calculates theta as a function of time using the Euler-Cromer method.\n",
    "    \n",
    "    This leads one to investigate the relationship between\n",
    "    the amplitude and period of the oscillation.\n",
    "    \"\"\"\n",
    "    \n",
    "\n",
    "    g = 9.8 # acceleration of gravity\n",
    "    \n",
    "    dt = float(dt)  # time step (in seconds)\n",
    "    \n",
    "    N_dt = int((time_f-time0)/dt)   # number of time steps\n",
    "                                    # (i.e numerical solutions)\n",
    "    \n",
    "    time_max = N_dt*dt # Total time (in seconds)\n",
    "    \n",
    "    time = np.linspace(time0, time_max, N_dt+1) # total time with \n",
    "                                                # N_dt number of time steps\n",
    "    \n",
    "    theta=np.zeros(time.size) # zero array\n",
    "    omega=np.zeros(time.size) # zero array\n",
    "    \n",
    "    theta[0]= theta0 #initial condition\n",
    "    omega[0]= omega0 #initial condition\n",
    "    \n",
    "    for i in range(0, N_dt): \n",
    "        \n",
    "       # computing theta and omega with the Euler-Cromer method\n",
    "       # NOTE: omega[i] is NOT used as in the euler method  \n",
    "       \n",
    "       # AND: omega[i+1] used to calculate  \n",
    "       # the new value, theta[i+1] \n",
    "       \n",
    "       # where the two first-order differential equations are; \n",
    "       # domega = -(g/length)*np.sin(theta[i]) AND\n",
    "       # dtheta = omega[i+1]\n",
    "        \n",
    "        omega[i+1] = omega[i] - (g/length)*np.sin(theta[i])*dt \n",
    "        theta[i+1] = theta[i] + omega[i+1]*dt  \n",
    "          \n",
    "       \n",
    "    return time, theta\n"
   ]
  },
  {
   "cell_type": "code",
   "execution_count": 3,
   "metadata": {
    "collapsed": true
   },
   "outputs": [],
   "source": [
    "# Now modifying script to calculate energy at each step time step\n",
    "# to see if energy is conserved.\n",
    "\n",
    "# We were not given the mass (or lack there of) of the pendulum.\n",
    "# Therefore, the mass is made up and will designate mass as 1.\n",
    "#This means theres is no need to put mass \n",
    "#in the equation ((...)*1--the mass-- will be the same number)\n",
    "\n",
    "\n",
    "\n",
    "def pendulum_and_energy_euler_cromer(theta0,omega0,length,time0,time_f,dt):\n",
    "    \"\"\"\n",
    "    Numerical solutions to energy of the system in \n",
    "    the ossilatory motion problem.\n",
    "    \n",
    "    Calculates energy as a function of time when the the Euler-Cromer method\n",
    "    is implemented.\n",
    "    \n",
    "    This leads one to investigate if energy is conserved.\n",
    "    \"\"\"\n",
    "    \n",
    "\n",
    "    g = 9.8 # acceleration of gravity\n",
    "    \n",
    "    dt = float(dt)  # time step (in seconds)\n",
    "    \n",
    "    N_dt = int((time_f-time0)/dt)   # number of time steps\n",
    "                                    # (i.e numerical solutions)\n",
    "    \n",
    "    time_max = N_dt*dt # Total time (in seconds)\n",
    "    \n",
    "    time = np.linspace(time0, time_max, N_dt+1) # total time with \n",
    "                                                # N_dt number of time steps\n",
    "    \n",
    "    theta=np.zeros(time.size) # zero array\n",
    "    omega=np.zeros(time.size) # zero array\n",
    "    energy = np.zeros(time.size) # zero array    \n",
    "    \n",
    "    \n",
    "    theta[0]= theta0 #initial condition\n",
    "    omega[0]= omega0 #initial condition\n",
    "        \n",
    "    \n",
    "    \n",
    "    \n",
    "    for i in range(0, N_dt): \n",
    "        \n",
    "       # computing theta and omega with the Euler-Cromer method\n",
    "       # NOTE: omega[i] is NOT used as in the euler method  \n",
    "       \n",
    "       # AND: omega[i+1] used to calculate  \n",
    "       # the new value, theta[i+1] \n",
    "       # where; \n",
    "       # domega = -(g/length)*np.sin(theta[i]) AND\n",
    "       # dtheta = omega[i+1]\n",
    "        \n",
    "        omega[i+1] = omega[i] - (g/length)*np.sin(theta[i])*dt \n",
    "        theta[i+1] = theta[i] + omega[i+1]*dt  \n",
    "    \n",
    "\n",
    "    #as the omega and theta are arrays with a sequence of numbers  \n",
    "    #at each time step and an initial condition, to calculate total energy\n",
    "    #simply plug thetha and omega in the total energy equation      \n",
    "    energy = 0.5 * (length)**2 * (omega)**2 + g*length*(1-np.cos(theta)) \n",
    "    \n",
    "    return time, energy"
   ]
  },
  {
   "cell_type": "code",
   "execution_count": 4,
   "metadata": {
    "collapsed": true
   },
   "outputs": [],
   "source": [
    "# define parameters: theta0, omega0, length, time0, time_f, dt\n",
    "\n",
    "#theta0 = np.pi/12\n",
    "time, theta1 = pendulum_euler_cromer(np.pi/12,0,1,0,10,0.004)\n",
    "\n",
    "#theta0 = np.pi/6  \n",
    "time, theta2 = pendulum_euler_cromer(np.pi/6,0,1,0,10,0.004)\n",
    "\n",
    "#theta0 = np.pi/3\n",
    "time, theta3 = pendulum_euler_cromer(np.pi/3,0,1,0,10,0.004)\n"
   ]
  },
  {
   "cell_type": "code",
   "execution_count": 5,
   "metadata": {
    "collapsed": true
   },
   "outputs": [],
   "source": [
    "# define parameters: theta0, omega0, length, mass, time0, time_f, dt\n",
    "\n",
    "#By substituting the omega and theta arrays found at each time step \n",
    "#into the total energy expression, \n",
    "#when using the Euler-Cromer method energy osillates over over a cycle and \n",
    "#give (approximatley) a zero total contribution. i.e Total Energy \n",
    "#IS conserved. \n",
    "\n",
    "\n",
    "#Therefore, the Total Energy does NOT monotonically increases in time \n",
    "#like when the system is solved using the Euler method.  \n",
    "\n",
    "\n",
    "#theta0 = np.pi/12\n",
    "time, energy1 = pendulum_and_energy_euler_cromer(np.pi/12, 0, 1, 0, 10, 0.004)\n",
    "\n",
    "#theta0 = np.pi/6\n",
    "time, energy2 = pendulum_and_energy_euler_cromer(np.pi/6, 0, 1, 0, 10, 0.004)\n",
    "\n",
    "#theta0 = np.pi/3\n",
    "time, energy3 = pendulum_and_energy_euler_cromer(np.pi/3, 0, 1, 0, 10, 0.004)\n"
   ]
  },
  {
   "cell_type": "code",
   "execution_count": 6,
   "metadata": {
    "collapsed": false
   },
   "outputs": [
    {
     "data": {
      "image/png": "[encoded data removed]",
      "text/plain": [
       "<matplotlib.figure.Figure at 0x767c518>"
      ]
     },
     "metadata": {},
     "output_type": "display_data"
    }
   ],
   "source": [
    "#figure 1\n",
    "#plot theta as a function of time \n",
    "\n",
    "plt.figure()\n",
    "plt.plot(time, theta1, 'b', time, theta2,'r', time, theta3, 'g')\n",
    "ax = plt.gca()\n",
    "\n",
    "ax.set_title(\"Simple Pendulum: Euler-Cromer Method\\n\\\n",
    "Length = 1m and Time Step = 0.004 s \",\\\n",
    "family='mger the period onospace',size=14, weight='bold')\n",
    "\n",
    "ax.set_xlabel(\"time (s)\")\n",
    "ax.set_ylabel(\"$\\\\theta$ (radians)\")\n",
    "\n",
    "ax.set_ylim(bottom=-1.2, top=1.2)\n",
    "\n",
    "ax.set_xticklabels(ax.get_xticks(), family='monospace', fontsize=10)\n",
    "ax.set_yticklabels(ax.get_yticks(), family='monospace', fontsize=10)\n",
    "\n",
    "ax.legend((\"$\\\\theta_{0} = \\pi/12$\",\"$\\\\theta_{0} = \\pi/6$\",\\\n",
    "\"$\\\\theta_{0} = \\pi/3$\",),fontsize=12, loc= 4)\n",
    "\n",
    "plt.show()"
   ]
  },
  {
   "cell_type": "markdown",
   "metadata": {},
   "source": [
    "Figure 1: "
   ]
  },
  {
   "cell_type": "code",
   "execution_count": 7,
   "metadata": {
    "collapsed": false
   },
   "outputs": [
    {
     "data": {
      "image/png": "[encoded data removed]",
      "text/plain": [
       "<matplotlib.figure.Figure at 0x81a6f60>"
      ]
     },
     "metadata": {},
     "output_type": "display_data"
    }
   ],
   "source": [
    "#figure 2\n",
    "#plot enrgy as a function of time \n",
    "\n",
    "\n",
    "plt.figure()\n",
    "plt.plot( time,energy1, 'b', time,energy2, 'r', time,energy3, 'g')\n",
    "ax = plt.gca()\n",
    "\n",
    "ax.set_title(\"Total Energy Conserved: the Euler-Cromer Method\\n\\\n",
    "Length = 1m, Mass = 1 kg, Time Step = 0.004 s \",\\\n",
    "family='monospace',size=14, weight='bold')\n",
    "\n",
    "ax.set_xlabel(\"time (s)\")\n",
    "ax.set_ylabel(\"energy (J)\")\n",
    "\n",
    "ax.set_ylim(bottom=0, top=5.5)\n",
    "\n",
    "ax.set_xticklabels(ax.get_xticks(), family='monospace', fontsize=10)\n",
    "ax.set_yticklabels(ax.get_yticks(), family='monospace', fontsize=10)\n",
    "\n",
    "ax.legend((\"Total Energy when $\\\\theta_{0} = \\pi/12$\",\\\n",
    "\"Total Energy when $\\\\theta_{0} = \\pi/6$\",\\\n",
    "\"Total Energy when $\\\\theta_{0} = \\pi/3$\",),fontsize=12, loc= 5)\n",
    "\n",
    "plt.show()"
   ]
  },
  {
   "cell_type": "markdown",
   "metadata": {},
   "source": [
    "Figure 2: "
   ]
  },
  {
   "cell_type": "code",
   "execution_count": 8,
   "metadata": {
    "collapsed": false
   },
   "outputs": [
    {
     "name": "stdout",
     "output_type": "stream",
     "text": [
      "251\n",
      "255\n",
      "269\n"
     ]
    }
   ],
   "source": [
    "#find period of ossilation for all \n",
    "#three different initial displacement values \n",
    "#very simple by the way that the functions were written\n",
    "dt=0.004 \n",
    "print(np.argmin(theta1[0:int(1.8/dt)]))\n",
    "print(np.argmin(theta2[0:int(1.8/dt)]))\n",
    "print(np.argmin(theta3[0:int(1.8/dt)]))"
   ]
  },
  {
   "cell_type": "code",
   "execution_count": 9,
   "metadata": {
    "collapsed": false
   },
   "outputs": [],
   "source": [
    "#0:argmin * 2, to get time representing full period index, \n",
    "#but need to include the last index so +1\n",
    "\n",
    "\n",
    "T1 = theta1[0:251*2+1]\n",
    "time_theta1 = time[0:251*2+1]\n",
    "\n",
    "T2 = theta2[0:255*2+1]\n",
    "time_theta2 = time[0:255*2+1]\n",
    "                          \n",
    "T3 = theta3[0:269*2+1]\n",
    "time_theta3 = time[0:269*2+1]"
   ]
  },
  {
   "cell_type": "code",
   "execution_count": 10,
   "metadata": {
    "collapsed": false
   },
   "outputs": [
    {
     "data": {
      "image/png": "[encoded data removed]",
      "text/plain": [
       "<matplotlib.figure.Figure at 0x8180f98>"
      ]
     },
     "metadata": {},
     "output_type": "display_data"
    }
   ],
   "source": [
    "#figure 3\n",
    "#plot theta as a function of time for a period of ossilation \n",
    "\n",
    "plt.figure()\n",
    "plt.plot(time_theta1, T1, 'b', time_theta2, T2, 'r', time_theta3, T3, 'g')\n",
    "ax = plt.gca()\n",
    "\n",
    "ax.set_title(\"Simple Pendulum-One Period: Euler-Cromer Method\\n\\\n",
    "Length = 1m and Time Step = 0.004 s \",\\\n",
    "family='monospace',size=14, weight='bold')\n",
    "\n",
    "ax.set_xlabel(\"time (s)\")\n",
    "ax.set_ylabel(\"$\\\\theta$ (radians)\")\n",
    "\n",
    "ax.set_xlim(left=0, right=2.153)\n",
    "ax.set_ylim(bottom=-1.2, top=1.2)\n",
    "\n",
    "ax.set_xticklabels(ax.get_xticks(), family='monospace', fontsize=10)\n",
    "ax.set_yticklabels(ax.get_yticks(), family='monospace', fontsize=10)\n",
    "\n",
    "ax.legend((\"$\\\\theta_{0} = \\pi/12$\",\"$\\\\theta_{0} =\\\n",
    "\\pi/6$\",\"$\\\\theta_{0} = \\pi/3$\",),fontsize=12, loc= 4)\n",
    "\n",
    "plt.show()"
   ]
  },
  {
   "cell_type": "code",
   "execution_count": 11,
   "metadata": {
    "collapsed": false
   },
   "outputs": [
    {
     "data": {
      "text/plain": [
       "array([ 0.26179939,  0.2617588 ,  0.26167765,  0.26155592,  0.26139365,\n",
       "        0.26119086,  0.26094758,  0.26066384,  0.2603397 ,  0.25997519,\n",
       "        0.25957037,  0.25912531,  0.25864008,  0.25811473,  0.25754937,\n",
       "        0.25694406,  0.25629891,  0.25561401,  0.25488947,  0.25412538,\n",
       "        0.25332188,  0.25247908,  0.25159712,  0.25067611,  0.24971621,\n",
       "        0.24871757,  0.24768032,  0.24660463,  0.24549067,  0.2443386 ,\n",
       "        0.24314859,  0.24192084,  0.24065552,  0.23935283,  0.23801296,\n",
       "        0.23663613,  0.23522254,  0.2337724 ,  0.23228594,  0.23076339,\n",
       "        0.22920497,  0.22761093,  0.2259815 ,  0.22431695,  0.22261751,\n",
       "        0.22088345,  0.21911504,  0.21731255,  0.21547625,  0.21360643,\n",
       "        0.21170336,  0.20976735,  0.20779869,  0.20579767,  0.20376462,\n",
       "        0.20169984,  0.19960364,  0.19747636,  0.19531831,  0.19312982,\n",
       "        0.19091125,  0.18866292,  0.18638518,  0.18407839,  0.18174289,\n",
       "        0.17937906,  0.17698725,  0.17456783,  0.17212118,  0.16964768,\n",
       "        0.1671477 ,  0.16462163,  0.16206987,  0.1594928 ,  0.15689083,\n",
       "        0.15426437,  0.15161381,  0.14893957,  0.14624206,  0.1435217 ,\n",
       "        0.14077892,  0.13801413,  0.13522777,  0.13242027,  0.12959207,\n",
       "        0.12674361,  0.12387533,  0.12098767,  0.11808109,  0.11515603,\n",
       "        0.11221296,  0.10925233,  0.1062746 ,  0.10328025,  0.10026972,\n",
       "        0.0972435 ,  0.09420206,  0.09114587,  0.0880754 ,  0.08499114,\n",
       "        0.08189358,  0.07878318,  0.07566045,  0.07252586,  0.06937991,\n",
       "        0.06622309,  0.0630559 ,  0.05987882,  0.05669236,  0.05349702,\n",
       "        0.05029329,  0.04708168,  0.04386269,  0.04063682,  0.03740459,\n",
       "        0.03416649,  0.03092303,  0.02767473,  0.02442208,  0.02116561,\n",
       "        0.01790582,  0.01464322,  0.01137833,  0.00811165,  0.0048437 ,\n",
       "        0.00157499, -0.00169396, -0.00496265, -0.00823056, -0.01149719,\n",
       "       -0.01476201, -0.01802451, -0.02128419, -0.02454053, -0.02779302,\n",
       "       -0.03104116, -0.03428443, -0.03752233, -0.04075434, -0.04397996,\n",
       "       -0.04719869, -0.05041003, -0.05361346, -0.05680849, -0.05999461,\n",
       "       -0.06317134, -0.06633817, -0.0694946 , -0.07264014, -0.07577431,\n",
       "       -0.0788966 , -0.08200654, -0.08510363, -0.08818739, -0.09125734,\n",
       "       -0.09431301, -0.09735391, -0.10037956, -0.10338951, -0.10638327,\n",
       "       -0.10936038, -0.11232038, -0.1152628 , -0.11818719, -0.12109309,\n",
       "       -0.12398005, -0.12684763, -0.12969536, -0.13252281, -0.13532955,\n",
       "       -0.13811513, -0.14087912, -0.1436211 , -0.14634063, -0.1490373 ,\n",
       "       -0.15171069, -0.15436038, -0.15698596, -0.15958703, -0.16216318,\n",
       "       -0.16471401, -0.16723914, -0.16973816, -0.1722107 , -0.17465636,\n",
       "       -0.17707478, -0.17946558, -0.18182839, -0.18416285, -0.18646859,\n",
       "       -0.18874526, -0.19099251, -0.19321   , -0.19539738, -0.19755432,\n",
       "       -0.19968048, -0.20177553, -0.20383917, -0.20587106, -0.2078709 ,\n",
       "       -0.20983838, -0.2117732 , -0.21367506, -0.21554367, -0.21737874,\n",
       "       -0.21918   , -0.22094717, -0.22267997, -0.22437814, -0.22604142,\n",
       "       -0.22766956, -0.22926231, -0.23081943, -0.23234068, -0.23382582,\n",
       "       -0.23527463, -0.23668688, -0.23806238, -0.23940089, -0.24070222,\n",
       "       -0.24196618, -0.24319256, -0.24438119, -0.24553188, -0.24664445,\n",
       "       -0.24771874, -0.24875459, -0.24975183, -0.25071032, -0.2516299 ,\n",
       "       -0.25251044, -0.25335181, -0.25415388, -0.25491653, -0.25563963,\n",
       "       -0.25632309, -0.25696679, -0.25757065, -0.25813456, -0.25865844,\n",
       "       -0.25914222, -0.25958581, -0.25998916, -0.2603522 , -0.26067488,\n",
       "       -0.26095714, -0.26119895, -0.26140027, -0.26156106, -0.26168131,\n",
       "       -0.26176099, -0.2618001 , -0.26179862, -0.26175656, -0.26167393,\n",
       "       -0.26155073, -0.26138698, -0.26118272, -0.26093796, -0.26065275,\n",
       "       -0.26032714, -0.25996116, -0.25955488, -0.25910836, -0.25862166,\n",
       "       -0.25809486, -0.25752804, -0.25692128, -0.25627468, -0.25558834,\n",
       "       -0.25486235, -0.25409683, -0.2532919 , -0.25244767, -0.25156428,\n",
       "       -0.25064186, -0.24968055, -0.24868049, -0.24764184, -0.24656476,\n",
       "       -0.24544941, -0.24429595, -0.24310457, -0.24187545, -0.24060876,\n",
       "       -0.23930472, -0.2379635 , -0.23658533, -0.2351704 , -0.23371894,\n",
       "       -0.23223116, -0.2307073 , -0.22914758, -0.22755225, -0.22592154,\n",
       "       -0.22425571, -0.22255501, -0.22081969, -0.21905004, -0.21724631,\n",
       "       -0.21540879, -0.21353775, -0.21163348, -0.20969627, -0.20772643,\n",
       "       -0.20572424, -0.20369003, -0.2016241 , -0.19952677, -0.19739835,\n",
       "       -0.19523919, -0.19304961, -0.19082994, -0.18858054, -0.18630174,\n",
       "       -0.18399389, -0.18165736, -0.1792925 , -0.17689968, -0.17447927,\n",
       "       -0.17203163, -0.16955715, -0.16705622, -0.16452921, -0.16197652,\n",
       "       -0.15939854, -0.15679568, -0.15416832, -0.1515169 , -0.1488418 ,\n",
       "       -0.14614345, -0.14342227, -0.14067868, -0.1379131 , -0.13512596,\n",
       "       -0.13231771, -0.12948876, -0.12663957, -0.12377057, -0.12088222,\n",
       "       -0.11797495, -0.11504923, -0.11210552, -0.10914426, -0.10616592,\n",
       "       -0.10317096, -0.10015986, -0.09713308, -0.09409109, -0.09103437,\n",
       "       -0.08796339, -0.08487864, -0.0817806 , -0.07866975, -0.07554657,\n",
       "       -0.07241156, -0.06926521, -0.06610801, -0.06294044, -0.05976302,\n",
       "       -0.05657623, -0.05338057, -0.05017654, -0.04696466, -0.04374541,\n",
       "       -0.0405193 , -0.03728684, -0.03404854, -0.0308049 , -0.02755643,\n",
       "       -0.02430363, -0.02104703, -0.01778713, -0.01452444, -0.01125947,\n",
       "       -0.00799274, -0.00472475, -0.00145603,  0.00181293,  0.0050816 ,\n",
       "        0.00834947,  0.01161604,  0.01488078,  0.01814319,  0.02140276,\n",
       "        0.02465897,  0.02791131,  0.03115928,  0.03440237,  0.03764006,\n",
       "        0.04087185,  0.04409723,  0.0473157 ,  0.05052675,  0.05372989,\n",
       "        0.0569246 ,  0.06011039,  0.06328677,  0.06645322,  0.06960927,\n",
       "        0.07275441,  0.07588815,  0.07901   ,  0.08211948,  0.08521609,\n",
       "        0.08829936,  0.0913688 ,  0.09442394,  0.09746429,  0.10048938,\n",
       "        0.10349875,  0.10649191,  0.10946841,  0.11242778,  0.11536955,\n",
       "        0.11829328,  0.1211985 ,  0.12408476,  0.12695161,  0.12979862,\n",
       "        0.13262533,  0.1354313 ,  0.1382161 ,  0.1409793 ,  0.14372047,\n",
       "        0.14643918,  0.14913501,  0.15180754,  0.15445636,  0.15708106,\n",
       "        0.15968122,  0.16225646,  0.16480637,  0.16733055,  0.16982861,\n",
       "        0.17230018,  0.17474486,  0.17716228,  0.17955207,  0.18191385,\n",
       "        0.18424727,  0.18655196,  0.18882756,  0.19107374,  0.19329014,\n",
       "        0.19547641,  0.19763224,  0.19975727,  0.20185119,  0.20391368,\n",
       "        0.20594441,  0.20794308,  0.20990937,  0.211843  ,  0.21374365,\n",
       "        0.21561105,  0.21744489,  0.21924491,  0.22101083,  0.22274238,\n",
       "        0.22443928,  0.22610129,  0.22772815,  0.22931961,  0.23087543,\n",
       "        0.23239536,  0.23387918,  0.23532667,  0.23673759,  0.23811174,\n",
       "        0.2394489 ,  0.24074888,  0.24201147,  0.24323649,  0.24442373,\n",
       "        0.24557304,  0.24668422,  0.24775712,  0.24879156,  0.24978739,\n",
       "        0.25074446,  0.25166263,  0.25254175,  0.25338169,  0.25418233,\n",
       "        0.25494354,  0.2556652 ,  0.25634721,  0.25698947,  0.25759187,\n",
       "        0.25815432,  0.25867675,  0.25915907,  0.2596012 ,  0.26000308,\n",
       "        0.26036465,  0.26068586,  0.26096665,  0.26120699,  0.26140683,\n",
       "        0.26156615,  0.26168492,  0.26176313])"
      ]
     },
     "execution_count": 11,
     "metadata": {},
     "output_type": "execute_result"
    }
   ],
   "source": [
    "#theta0 = np.pi/12\n",
    "#theta vales for a period of oscilation\n",
    "T1"
   ]
  },
  {
   "cell_type": "code",
   "execution_count": 12,
   "metadata": {
    "collapsed": false
   },
   "outputs": [
    {
     "data": {
      "text/plain": [
       "array([ 0.   ,  0.004,  0.008,  0.012,  0.016,  0.02 ,  0.024,  0.028,\n",
       "        0.032,  0.036,  0.04 ,  0.044,  0.048,  0.052,  0.056,  0.06 ,\n",
       "        0.064,  0.068,  0.072,  0.076,  0.08 ,  0.084,  0.088,  0.092,\n",
       "        0.096,  0.1  ,  0.104,  0.108,  0.112,  0.116,  0.12 ,  0.124,\n",
       "        0.128,  0.132,  0.136,  0.14 ,  0.144,  0.148,  0.152,  0.156,\n",
       "        0.16 ,  0.164,  0.168,  0.172,  0.176,  0.18 ,  0.184,  0.188,\n",
       "        0.192,  0.196,  0.2  ,  0.204,  0.208,  0.212,  0.216,  0.22 ,\n",
       "        0.224,  0.228,  0.232,  0.236,  0.24 ,  0.244,  0.248,  0.252,\n",
       "        0.256,  0.26 ,  0.264,  0.268,  0.272,  0.276,  0.28 ,  0.284,\n",
       "        0.288,  0.292,  0.296,  0.3  ,  0.304,  0.308,  0.312,  0.316,\n",
       "        0.32 ,  0.324,  0.328,  0.332,  0.336,  0.34 ,  0.344,  0.348,\n",
       "        0.352,  0.356,  0.36 ,  0.364,  0.368,  0.372,  0.376,  0.38 ,\n",
       "        0.384,  0.388,  0.392,  0.396,  0.4  ,  0.404,  0.408,  0.412,\n",
       "        0.416,  0.42 ,  0.424,  0.428,  0.432,  0.436,  0.44 ,  0.444,\n",
       "        0.448,  0.452,  0.456,  0.46 ,  0.464,  0.468,  0.472,  0.476,\n",
       "        0.48 ,  0.484,  0.488,  0.492,  0.496,  0.5  ,  0.504,  0.508,\n",
       "        0.512,  0.516,  0.52 ,  0.524,  0.528,  0.532,  0.536,  0.54 ,\n",
       "        0.544,  0.548,  0.552,  0.556,  0.56 ,  0.564,  0.568,  0.572,\n",
       "        0.576,  0.58 ,  0.584,  0.588,  0.592,  0.596,  0.6  ,  0.604,\n",
       "        0.608,  0.612,  0.616,  0.62 ,  0.624,  0.628,  0.632,  0.636,\n",
       "        0.64 ,  0.644,  0.648,  0.652,  0.656,  0.66 ,  0.664,  0.668,\n",
       "        0.672,  0.676,  0.68 ,  0.684,  0.688,  0.692,  0.696,  0.7  ,\n",
       "        0.704,  0.708,  0.712,  0.716,  0.72 ,  0.724,  0.728,  0.732,\n",
       "        0.736,  0.74 ,  0.744,  0.748,  0.752,  0.756,  0.76 ,  0.764,\n",
       "        0.768,  0.772,  0.776,  0.78 ,  0.784,  0.788,  0.792,  0.796,\n",
       "        0.8  ,  0.804,  0.808,  0.812,  0.816,  0.82 ,  0.824,  0.828,\n",
       "        0.832,  0.836,  0.84 ,  0.844,  0.848,  0.852,  0.856,  0.86 ,\n",
       "        0.864,  0.868,  0.872,  0.876,  0.88 ,  0.884,  0.888,  0.892,\n",
       "        0.896,  0.9  ,  0.904,  0.908,  0.912,  0.916,  0.92 ,  0.924,\n",
       "        0.928,  0.932,  0.936,  0.94 ,  0.944,  0.948,  0.952,  0.956,\n",
       "        0.96 ,  0.964,  0.968,  0.972,  0.976,  0.98 ,  0.984,  0.988,\n",
       "        0.992,  0.996,  1.   ,  1.004,  1.008,  1.012,  1.016,  1.02 ,\n",
       "        1.024,  1.028,  1.032,  1.036,  1.04 ,  1.044,  1.048,  1.052,\n",
       "        1.056,  1.06 ,  1.064,  1.068,  1.072,  1.076,  1.08 ,  1.084,\n",
       "        1.088,  1.092,  1.096,  1.1  ,  1.104,  1.108,  1.112,  1.116,\n",
       "        1.12 ,  1.124,  1.128,  1.132,  1.136,  1.14 ,  1.144,  1.148,\n",
       "        1.152,  1.156,  1.16 ,  1.164,  1.168,  1.172,  1.176,  1.18 ,\n",
       "        1.184,  1.188,  1.192,  1.196,  1.2  ,  1.204,  1.208,  1.212,\n",
       "        1.216,  1.22 ,  1.224,  1.228,  1.232,  1.236,  1.24 ,  1.244,\n",
       "        1.248,  1.252,  1.256,  1.26 ,  1.264,  1.268,  1.272,  1.276,\n",
       "        1.28 ,  1.284,  1.288,  1.292,  1.296,  1.3  ,  1.304,  1.308,\n",
       "        1.312,  1.316,  1.32 ,  1.324,  1.328,  1.332,  1.336,  1.34 ,\n",
       "        1.344,  1.348,  1.352,  1.356,  1.36 ,  1.364,  1.368,  1.372,\n",
       "        1.376,  1.38 ,  1.384,  1.388,  1.392,  1.396,  1.4  ,  1.404,\n",
       "        1.408,  1.412,  1.416,  1.42 ,  1.424,  1.428,  1.432,  1.436,\n",
       "        1.44 ,  1.444,  1.448,  1.452,  1.456,  1.46 ,  1.464,  1.468,\n",
       "        1.472,  1.476,  1.48 ,  1.484,  1.488,  1.492,  1.496,  1.5  ,\n",
       "        1.504,  1.508,  1.512,  1.516,  1.52 ,  1.524,  1.528,  1.532,\n",
       "        1.536,  1.54 ,  1.544,  1.548,  1.552,  1.556,  1.56 ,  1.564,\n",
       "        1.568,  1.572,  1.576,  1.58 ,  1.584,  1.588,  1.592,  1.596,\n",
       "        1.6  ,  1.604,  1.608,  1.612,  1.616,  1.62 ,  1.624,  1.628,\n",
       "        1.632,  1.636,  1.64 ,  1.644,  1.648,  1.652,  1.656,  1.66 ,\n",
       "        1.664,  1.668,  1.672,  1.676,  1.68 ,  1.684,  1.688,  1.692,\n",
       "        1.696,  1.7  ,  1.704,  1.708,  1.712,  1.716,  1.72 ,  1.724,\n",
       "        1.728,  1.732,  1.736,  1.74 ,  1.744,  1.748,  1.752,  1.756,\n",
       "        1.76 ,  1.764,  1.768,  1.772,  1.776,  1.78 ,  1.784,  1.788,\n",
       "        1.792,  1.796,  1.8  ,  1.804,  1.808,  1.812,  1.816,  1.82 ,\n",
       "        1.824,  1.828,  1.832,  1.836,  1.84 ,  1.844,  1.848,  1.852,\n",
       "        1.856,  1.86 ,  1.864,  1.868,  1.872,  1.876,  1.88 ,  1.884,\n",
       "        1.888,  1.892,  1.896,  1.9  ,  1.904,  1.908,  1.912,  1.916,\n",
       "        1.92 ,  1.924,  1.928,  1.932,  1.936,  1.94 ,  1.944,  1.948,\n",
       "        1.952,  1.956,  1.96 ,  1.964,  1.968,  1.972,  1.976,  1.98 ,\n",
       "        1.984,  1.988,  1.992,  1.996,  2.   ,  2.004,  2.008])"
      ]
     },
     "execution_count": 12,
     "metadata": {},
     "output_type": "execute_result"
    }
   ],
   "source": [
    "#theta0 = np.pi/12\n",
    "#time vales for a period of oscilation\n",
    "time_theta1"
   ]
  },
  {
   "cell_type": "code",
   "execution_count": 13,
   "metadata": {
    "collapsed": false
   },
   "outputs": [
    {
     "data": {
      "text/plain": [
       "array([ 0.52359878,  0.52352038,  0.52336359,  0.52312843,  0.52281494,\n",
       "        0.52242315,  0.52195312,  0.52140492,  0.52077861,  0.52007429,\n",
       "        0.51929205,  0.51843199,  0.51749423,  0.51647891,  0.51538615,\n",
       "        0.51421611,  0.51296895,  0.51164484,  0.51024396,  0.50876649,\n",
       "        0.50721265,  0.50558265,  0.5038767 ,  0.50209505,  0.50023793,\n",
       "        0.49830561,  0.49629835,  0.49421642,  0.49206012,  0.48982974,\n",
       "        0.48752558,  0.48514798,  0.48269725,  0.48017375,  0.47757781,\n",
       "        0.4749098 ,  0.47217009,  0.46935907,  0.46647712,  0.46352465,\n",
       "        0.46050208,  0.45740983,  0.45424833,  0.45101803,  0.44771938,\n",
       "        0.44435285,  0.44091892,  0.43741807,  0.4338508 ,  0.43021761,\n",
       "        0.42651903,  0.42275558,  0.4189278 ,  0.41503623,  0.41108144,\n",
       "        0.407064  ,  0.40298447,  0.39884345,  0.39464154,  0.39037934,\n",
       "        0.38605748,  0.38167657,  0.37723725,  0.37274018,  0.36818601,\n",
       "        0.36357541,  0.35890904,  0.35418759,  0.34941176,  0.34458226,\n",
       "        0.33969978,  0.33476506,  0.32977882,  0.32474181,  0.31965476,\n",
       "        0.31451844,  0.30933362,  0.30410106,  0.29882155,  0.29349588,\n",
       "        0.28812485,  0.28270926,  0.27724993,  0.27174769,  0.26620335,\n",
       "        0.26061777,  0.25499178,  0.24932624,  0.24362201,  0.23787996,\n",
       "        0.23210096,  0.22628589,  0.22043564,  0.21455111,  0.20863319,\n",
       "        0.2026828 ,  0.19670084,  0.19068824,  0.18464591,  0.17857481,\n",
       "        0.17247584,  0.16634997,  0.16019814,  0.15402129,  0.14782039,\n",
       "        0.14159639,  0.13535027,  0.12908299,  0.12279552,  0.11648885,\n",
       "        0.11016395,  0.10382181,  0.09746343,  0.09108979,  0.08470188,\n",
       "        0.07830071,  0.07188727,  0.06546257,  0.05902761,  0.05258341,\n",
       "        0.04613096,  0.03967128,  0.03320538,  0.02673428,  0.02025899,\n",
       "        0.01378052,  0.00729988,  0.00081811, -0.0056638 , -0.01214481,\n",
       "       -0.01862393, -0.02510012, -0.03157237, -0.03803968, -0.04450103,\n",
       "       -0.05095539, -0.05740178, -0.06383916, -0.07026655, -0.07668292,\n",
       "       -0.08308728, -0.08947863, -0.09585597, -0.1022183 , -0.10856463,\n",
       "       -0.11489397, -0.12120534, -0.12749774, -0.13377021, -0.14002177,\n",
       "       -0.14625144, -0.15245827, -0.15864128, -0.16479951, -0.17093203,\n",
       "       -0.17703787, -0.1831161 , -0.18916578, -0.19518597, -0.20117575,\n",
       "       -0.2071342 , -0.2130604 , -0.21895344, -0.22481243, -0.23063646,\n",
       "       -0.23642465, -0.24217611, -0.24788997, -0.25356536, -0.25920141,\n",
       "       -0.26479727, -0.2703521 , -0.27586505, -0.28133529, -0.286762  ,\n",
       "       -0.29214435, -0.29748155, -0.30277279, -0.30801727, -0.31321422,\n",
       "       -0.31836285, -0.3234624 , -0.32851212, -0.33351124, -0.33845904,\n",
       "       -0.34335477, -0.34819772, -0.35298716, -0.3577224 , -0.36240274,\n",
       "       -0.36702748, -0.37159596, -0.37610751, -0.38056146, -0.38495718,\n",
       "       -0.389294  , -0.39357132, -0.39778851, -0.40194496, -0.40604006,\n",
       "       -0.41007323, -0.41404389, -0.41795147, -0.4217954 , -0.42557514,\n",
       "       -0.42929015, -0.43293989, -0.43652385, -0.44004151, -0.44349238,\n",
       "       -0.44687597, -0.4501918 , -0.4534394 , -0.45661831, -0.45972808,\n",
       "       -0.46276828, -0.46573848, -0.46863827, -0.47146723, -0.47422498,\n",
       "       -0.47691112, -0.47952529, -0.48206711, -0.48453624, -0.48693234,\n",
       "       -0.48925506, -0.4915041 , -0.49367913, -0.49577985, -0.49780599,\n",
       "       -0.49975725, -0.50163338, -0.5034341 , -0.50515918, -0.50680838,\n",
       "       -0.50838146, -0.50987823, -0.51129846, -0.51264197, -0.51390857,\n",
       "       -0.51509809, -0.51621037, -0.51724525, -0.5182026 , -0.51908228,\n",
       "       -0.51988418, -0.52060818, -0.52125419, -0.52182211, -0.52231188,\n",
       "       -0.52272342, -0.52305669, -0.52331162, -0.52348819, -0.52358638,\n",
       "       -0.52360617, -0.52354756, -0.52341056, -0.52319518, -0.52290146,\n",
       "       -0.52252943, -0.52207915, -0.52155067, -0.52094407, -0.52025943,\n",
       "       -0.51949685, -0.51865642, -0.51773827, -0.51674251, -0.51566929,\n",
       "       -0.51451874, -0.51329103, -0.51198633, -0.51060481, -0.50914665,\n",
       "       -0.50761207, -0.50600127, -0.50431448, -0.50255191, -0.50071382,\n",
       "       -0.49880046, -0.49681209, -0.49474898, -0.49261142, -0.49039971,\n",
       "       -0.48811415, -0.48575506, -0.48332276, -0.48081759, -0.4782399 ,\n",
       "       -0.47559005, -0.4728684 , -0.47007534, -0.46721126, -0.46427656,\n",
       "       -0.46127164, -0.45819694, -0.45505288, -0.4518399 , -0.44855846,\n",
       "       -0.44520902, -0.44179206, -0.43830805, -0.4347575 , -0.43114091,\n",
       "       -0.42745878, -0.42371166, -0.41990006, -0.41602455, -0.41208566,\n",
       "       -0.40808398, -0.40402007, -0.39989451, -0.39570792, -0.39146088,\n",
       "       -0.38715401, -0.38278795, -0.37836332, -0.37388077, -0.36934095,\n",
       "       -0.36474452, -0.36009216, -0.35538456, -0.35062239, -0.34580636,\n",
       "       -0.34093719, -0.33601559, -0.33104229, -0.32601802, -0.32094353,\n",
       "       -0.31581958, -0.31064693, -0.30542635, -0.30015861, -0.29484452,\n",
       "       -0.28948486, -0.28408044, -0.27863208, -0.27314059, -0.2676068 ,\n",
       "       -0.26203155, -0.25641568, -0.25076004, -0.2450655 , -0.23933291,\n",
       "       -0.23356315, -0.22775711, -0.22191565, -0.21603969, -0.21013011,\n",
       "       -0.20418783, -0.19821375, -0.1922088 , -0.18617389, -0.18010996,\n",
       "       -0.17401794, -0.16789878, -0.16175341, -0.15558278, -0.14938786,\n",
       "       -0.1431696 , -0.13692897, -0.13066694, -0.12438448, -0.11808256,\n",
       "       -0.11176217, -0.10542429, -0.09906992, -0.09270003, -0.08631563,\n",
       "       -0.07991771, -0.07350728, -0.06708533, -0.06065286, -0.0542109 ,\n",
       "       -0.04776043, -0.04130249, -0.03483806, -0.02836818, -0.02189385,\n",
       "       -0.01541608, -0.0089359 , -0.00245432,  0.00402765,  0.01050899,\n",
       "        0.01698868,  0.0234657 ,  0.02993905,  0.0364077 ,  0.04287065,\n",
       "        0.04932687,  0.05577536,  0.06221512,  0.06864512,  0.07506437,\n",
       "        0.08147186,  0.08786659,  0.09424755,  0.10061377,  0.10696423,\n",
       "        0.11329795,  0.11961395,  0.12591123,  0.13218883,  0.13844575,\n",
       "        0.14468104,  0.15089372,  0.15708284,  0.16324742,  0.16938652,\n",
       "        0.17549918,  0.18158447,  0.18764144,  0.19366916,  0.1996667 ,\n",
       "        0.20563315,  0.21156758,  0.21746908,  0.22333674,  0.22916969,\n",
       "        0.23496701,  0.24072782,  0.24645125,  0.25213643,  0.2577825 ,\n",
       "        0.26338858,  0.26895385,  0.27447745,  0.27995855,  0.28539632,\n",
       "        0.29078995,  0.29613862,  0.30144153,  0.30669789,  0.31190691,\n",
       "        0.31706781,  0.32217983,  0.32724219,  0.33225416,  0.33721498,\n",
       "        0.34212392,  0.34698026,  0.35178328,  0.35653227,  0.36122653,\n",
       "        0.36586537,  0.37044812,  0.3749741 ,  0.37944265,  0.38385312,\n",
       "        0.38820488,  0.39249727,  0.3967297 ,  0.40090153,  0.40501218,\n",
       "        0.40906104,  0.41304753,  0.41697109,  0.42083114,  0.42462713,\n",
       "        0.42835853,  0.4320248 ,  0.43562541,  0.43915985,  0.44262763,\n",
       "        0.44602825,  0.44936123,  0.45262609,  0.45582238,  0.45894965,\n",
       "        0.46200745,  0.46499536,  0.46791296,  0.47075984,  0.4735356 ,\n",
       "        0.47623985,  0.47887222,  0.48143234,  0.48391985,  0.48633442,\n",
       "        0.48867569,  0.49094336,  0.4931371 ,  0.49525661,  0.4973016 ,\n",
       "        0.49927179,  0.5011669 ,  0.50298668,  0.50473088,  0.50639925,\n",
       "        0.50799157,  0.50950762,  0.51094719,  0.51231008,  0.51359612,\n",
       "        0.51480511,  0.5159369 ,  0.51699133,  0.51796827,  0.51886757,\n",
       "        0.51968911,  0.52043278,  0.52109848,  0.52168613,  0.52219563,\n",
       "        0.52262693,  0.52297995,  0.52325466,  0.52345102,  0.52356899,\n",
       "        0.52360857])"
      ]
     },
     "execution_count": 13,
     "metadata": {},
     "output_type": "execute_result"
    }
   ],
   "source": [
    "#theta0 = np.pi/6\n",
    "#theta vales for a period of oscilation\n",
    "T2"
   ]
  },
  {
   "cell_type": "code",
   "execution_count": 17,
   "metadata": {
    "collapsed": false
   },
   "outputs": [
    {
     "ename": "SyntaxError",
     "evalue": "invalid syntax (<ipython-input-17-a3f91345bab6>, line 3)",
     "output_type": "error",
     "traceback": [
      "\u001b[1;36m  File \u001b[1;32m\"<ipython-input-17-a3f91345bab6>\"\u001b[1;36m, line \u001b[1;32m3\u001b[0m\n\u001b[1;33m    print(time_theta2,0:100)\u001b[0m\n\u001b[1;37m                       ^\u001b[0m\n\u001b[1;31mSyntaxError\u001b[0m\u001b[1;31m:\u001b[0m invalid syntax\n"
     ]
    }
   ],
   "source": [
    "#theta0 = np.pi/6\n",
    "#time vales for a period of oscilation\n",
    "print(time_theta2)"
   ]
  },
  {
   "cell_type": "code",
   "execution_count": null,
   "metadata": {
    "collapsed": true
   },
   "outputs": [],
   "source": [
    "#theta0 = np.pi/3\n",
    "#theta vales for a period of oscilation\n",
    "T3"
   ]
  },
  {
   "cell_type": "code",
   "execution_count": null,
   "metadata": {
    "collapsed": true
   },
   "outputs": [],
   "source": [
    "#theta0 = np.pi/3\n",
    "#time vales for a period of oscilation\n",
    "time_theta3"
   ]
  }
 ],
 "metadata": {
  "anaconda-cloud": {},
  "kernelspec": {
   "display_name": "Python [Root]",
   "language": "python",
   "name": "Python [Root]"
  },
  "language_info": {
   "codemirror_mode": {
    "name": "ipython",
    "version": 3
   },
   "file_extension": ".py",
   "mimetype": "text/x-python",
   "name": "python",
   "nbconvert_exporter": "python",
   "pygments_lexer": "ipython3",
   "version": "3.5.2"
  }
 },
 "nbformat": 4,
 "nbformat_minor": 0
}
