{
 "cells": [
  {
   "cell_type": "markdown",
   "metadata": {
    "canopy_exercise": {
     "cell_type": "question"
    }
   },
   "source": [
    "Curve Fitting\n",
    "=============\n",
    "\n",
    "SciPy provides many methods to fit curves to your data points. The fitted curves can be a much cleaner way to represent your data.\n",
    "\n",
    "Question 1\n",
    "----------\n",
    "Plot the following noisy, sinusoidal data produced for you with a randomized generator."
   ]
  },
  {
   "cell_type": "code",
   "execution_count": null,
   "metadata": {
    "collapsed": false
   },
   "outputs": [],
   "source": [
    "import numpy as np\n",
    "from numpy import pi\n",
    "from scipy.stats import norm\n",
    "from matplotlib.pyplot import plot, title\n",
    "%matplotlib inline"
   ]
  },
  {
   "cell_type": "code",
   "execution_count": null,
   "metadata": {
    "canopy_exercise": {
     "cell_type": "starting code"
    },
    "collapsed": false
   },
   "outputs": [],
   "source": [
    "def noisy_data(x):\n",
    "    phase = pi / 4\n",
    "    frequency = 0.85\n",
    "    noise = norm.rvs(size=x.shape) * 0.5\n",
    "    return np.sin(x * frequency + phase) + noise\n",
    "\n",
    "x = np.linspace(-pi, pi, 100)\n",
    "y = noisy_data(x)"
   ]
  },
  {
   "cell_type": "code",
   "execution_count": null,
   "metadata": {
    "canopy_exercise": {
     "cell_type": "student_solution"
    },
    "collapsed": true
   },
   "outputs": [],
   "source": [
    "# your code goes here"
   ]
  },
  {
   "cell_type": "markdown",
   "metadata": {
    "canopy_exercise": {
     "cell_type": "solution_button"
    }
   },
   "source": [
    "<div class=\"btn-group\"><button class=\"btn\" onclick=\"IPython.canopy_exercise.toggle_solution('2')\">Solution</button></div>"
   ]
  },
  {
   "cell_type": "code",
   "execution_count": null,
   "metadata": {
    "canopy_exercise": {
     "cell_type": "solution_view",
     "solution_number": "2"
    },
    "collapsed": false
   },
   "outputs": [],
   "source": [
    "plot(x, y, \"b.\")"
   ]
  },
  {
   "cell_type": "markdown",
   "metadata": {
    "canopy_exercise": {
     "cell_type": "question"
    }
   },
   "source": [
    "Question 2\n",
    "----------\n",
    "\n",
    "Take a look at your data. Could you use a polynomial to fit the data? What order polynomial is appropriate?\n",
    "Plot your fit against the original data.\n",
    "How good is the fit? Can you make the fit better by increasing the polynomial order?"
   ]
  },
  {
   "cell_type": "markdown",
   "metadata": {
    "canopy_exercise": {
     "cell_type": "hint_button"
    }
   },
   "source": [
    "<div class=\"btn-group\"><button class=\"btn\" onclick=\"IPython.canopy_exercise.toggle_hint('4')\">Hint</button></div>"
   ]
  },
  {
   "cell_type": "markdown",
   "metadata": {
    "canopy_exercise": {
     "cell_type": "hint_view",
     "hint_number": "4"
    }
   },
   "source": [
    "`1 - R ** 2` can be calculated by dividing the sum of the squared model error by the overall variation."
   ]
  },
  {
   "cell_type": "code",
   "execution_count": null,
   "metadata": {
    "canopy_exercise": {
     "cell_type": "starting code"
    },
    "collapsed": false
   },
   "outputs": [],
   "source": [
    "from numpy import polyfit, poly1d"
   ]
  },
  {
   "cell_type": "code",
   "execution_count": null,
   "metadata": {
    "canopy_exercise": {
     "cell_type": "student_solution"
    },
    "collapsed": true
   },
   "outputs": [],
   "source": [
    "# your code goes here"
   ]
  },
  {
   "cell_type": "markdown",
   "metadata": {
    "canopy_exercise": {
     "cell_type": "solution_button"
    }
   },
   "source": [
    "<div class=\"btn-group\"><button class=\"btn\" onclick=\"IPython.canopy_exercise.toggle_solution('5')\">Solution</button></div>"
   ]
  },
  {
   "cell_type": "code",
   "execution_count": null,
   "metadata": {
    "canopy_exercise": {
     "cell_type": "solution_view",
     "solution_number": "5"
    },
    "collapsed": false
   },
   "outputs": [],
   "source": [
    "fit = polyfit(x, y, 3)\n",
    "\n",
    "fit_func = poly1d(fit)\n",
    "\n",
    "plot(x, y, 'b.')\n",
    "plot(x, fit_func(x), 'r-')\n",
    "\n",
    "# Standard error is the square root of the average squared distance\n",
    "# of the data points from the model points\n",
    "model_sq_err = (y - fit_func(x)) ** 2\n",
    "std_err = np.sqrt(model_sq_err.mean())\n",
    "\n",
    "# Correlation coefficient (R2) is the amount of variation explained by the model\n",
    "total_sq_err = (y - y.mean()) ** 2\n",
    "r2 = 1 - model_sq_err.sum() / total_sq_err.sum()\n",
    "\n",
    "print \"std err = {}\".format(std_err)\n",
    "print \"r2 = {}\".format(r2)"
   ]
  },
  {
   "cell_type": "markdown",
   "metadata": {
    "canopy_exercise": {
     "cell_type": "question"
    }
   },
   "source": [
    "Question 3\n",
    "----------\n",
    "\n",
    "You find out that your data has the form `y=sin(ωx+ϕ)`. Set up a function to fit the data to this form."
   ]
  },
  {
   "cell_type": "code",
   "execution_count": 2,
   "metadata": {
    "canopy_exercise": {
     "cell_type": "student_solution"
    },
    "collapsed": true
   },
   "outputs": [],
   "source": [
    "# your code goes here"
   ]
  },
  {
   "cell_type": "markdown",
   "metadata": {
    "canopy_exercise": {
     "cell_type": "solution_button"
    }
   },
   "source": [
    "<div class=\"btn-group\"><button class=\"btn\" onclick=\"IPython.canopy_exercise.toggle_solution('6')\">Solution</button></div>"
   ]
  },
  {
   "cell_type": "code",
   "execution_count": 3,
   "metadata": {
    "canopy_exercise": {
     "cell_type": "solution_view",
     "solution_number": "6"
    },
    "collapsed": false
   },
   "outputs": [],
   "source": [
    "def fit_func(x, w, phi):\n",
    "    return np.sin(x * w + phi)"
   ]
  },
  {
   "cell_type": "markdown",
   "metadata": {
    "canopy_exercise": {
     "cell_type": "question"
    }
   },
   "source": [
    "Question 4\n",
    "----------\n",
    "\n",
    "Use `curve_fit()` to find the best fit for the frequency and phase shift parameters in the data."
   ]
  },
  {
   "cell_type": "code",
   "execution_count": 4,
   "metadata": {
    "canopy_exercise": {
     "cell_type": "starting code"
    },
    "collapsed": false
   },
   "outputs": [],
   "source": [
    "from scipy.optimize import curve_fit"
   ]
  },
  {
   "cell_type": "code",
   "execution_count": 5,
   "metadata": {
    "canopy_exercise": {
     "cell_type": "student_solution"
    },
    "collapsed": true
   },
   "outputs": [],
   "source": [
    "# your code goes here"
   ]
  },
  {
   "cell_type": "markdown",
   "metadata": {
    "canopy_exercise": {
     "cell_type": "solution_button"
    }
   },
   "source": [
    "<div class=\"btn-group\"><button class=\"btn\" onclick=\"IPython.canopy_exercise.toggle_solution('8')\">Solution</button></div>"
   ]
  },
  {
   "cell_type": "code",
   "execution_count": 6,
   "metadata": {
    "canopy_exercise": {
     "cell_type": "solution_view",
     "solution_number": "8"
    },
    "collapsed": false
   },
   "outputs": [
    {
     "ename": "SyntaxError",
     "evalue": "invalid syntax (<ipython-input-6-6132f081fb0c>, line 16)",
     "output_type": "error",
     "traceback": [
      "\u001b[0;36m  File \u001b[0;32m\"<ipython-input-6-6132f081fb0c>\"\u001b[0;36m, line \u001b[0;32m16\u001b[0m\n\u001b[0;31m    print \"std err = {}\".format(std_err)\u001b[0m\n\u001b[0m                       ^\u001b[0m\n\u001b[0;31mSyntaxError\u001b[0m\u001b[0;31m:\u001b[0m invalid syntax\n"
     ]
    }
   ],
   "source": [
    "coeffs, cov_matrix = curve_fit(fit_func, x, y, [0, 1])\n",
    "\n",
    "plot(x, y, 'b.')\n",
    "plot(x, fit_func(x, *coeffs), 'r-')\n",
    "title('y = sin({:.3}x + {:.3})'.format(*coeffs))\n",
    "\n",
    "# Standard error is the square root of the average squared distance\n",
    "# of the data points from the model points\n",
    "model_sq_err = (y - fit_func(x, *coeffs)) ** 2\n",
    "std_err = np.sqrt(model_sq_err.mean())\n",
    "\n",
    "# Correlation coefficient (R2) is the amount of variation explained by the model\n",
    "overall_sq_err = (y - y.mean()) ** 2\n",
    "r2 = 1 - model_sq_err.sum() / overall_sq_err.sum()\n",
    "\n",
    "print \"std err = {}\".format(std_err)\n",
    "print \"r2 = {}\".format(r2)"
   ]
  },
  {
   "cell_type": "markdown",
   "metadata": {
    "canopy_exercise": {
     "cell_type": "question"
    }
   },
   "source": [
    "Copyright 2008-2016, Enthought, Inc.  \n",
    "Use only permitted under license.  Copying, sharing, redistributing or other unauthorized use strictly prohibited.  \n",
    "http://www.enthought.com"
   ]
  }
 ],
 "metadata": {
  "anaconda-cloud": {},
  "canopy_exercise": {
   "__metadata_version__": 1
  },
  "kernelspec": {
   "display_name": "Python [conda root]",
   "language": "python",
   "name": "conda-root-py"
  },
  "language_info": {
   "codemirror_mode": {
    "name": "ipython",
    "version": 3
   },
   "file_extension": ".py",
   "mimetype": "text/x-python",
   "name": "python",
   "nbconvert_exporter": "python",
   "pygments_lexer": "ipython3",
   "version": "3.5.2"
  }
 },
 "nbformat": 4,
 "nbformat_minor": 0
}
