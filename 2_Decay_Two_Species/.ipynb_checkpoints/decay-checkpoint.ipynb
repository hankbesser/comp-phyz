{
 "cells": [
  {
   "cell_type": "code",
   "execution_count": 53,
   "metadata": {
    "collapsed": true
   },
   "outputs": [],
   "source": [
    "import numpy as np\n",
    "import matplotlib.pyplot as plt"
   ]
  },
  {
   "cell_type": "code",
   "execution_count": 54,
   "metadata": {
    "collapsed": false
   },
   "outputs": [],
   "source": [
    "def calc_euler(start_atoms, tau, time_max, dt):\n",
    "    \"\"\"\n",
    "    Calculates solution to the radioactive decay problem using \n",
    "    the Euler method. \n",
    "    \"\"\"\n",
    "    dt = float(dt)                        # time step (in seconds)\n",
    "    N_dt = int(round(time_max/dt))        # number of time steps (i.e numerical solutions)\n",
    "    time_max = N_dt*dt                    # Total time (in seconds)\n",
    "    \n",
    "    time = np.linspace(0, time_max, N_dt+1)  # total time with N_dt number of time steps\n",
    "    nuc = np.zeros(time.shape)                # zero array of nuc[i] values  \n",
    "      \n",
    "\n",
    "    nuc[0] = start_atoms   # assigns initial number of nuclei as the initial conditon\n",
    "    \n",
    "    for i in range(0, N_dt):                   # i=0,1,...,N_dt-1\n",
    "        nuc[i+1] = nuc[i] - ((nuc[i]/tau) *(dt))  # Euler method\n",
    "    return time, nuc"
   ]
  },
  {
   "cell_type": "code",
   "execution_count": 55,
   "metadata": {
    "collapsed": false
   },
   "outputs": [],
   "source": [
    "def calc_runge(start_atoms, tau, time_max, dt):\n",
    "    \"\"\"\n",
    "    Calculates solution to the radioactive decay problem using \n",
    "    the 2nd order Runge-Kutta method. \n",
    "    \"\"\"\n",
    "    dt = float(dt)                        # time step (in seconds)\n",
    "    N_dt = int(round(time_max/dt))        # number of time steps (i.e numerical solutions)\n",
    "    time_max = N_dt*dt                    # Total time (in seconds)\n",
    "    \n",
    "    time = np.linspace(0, time_max, N_dt+1)  # total time with N_dt number of time steps\n",
    "    nuc = np.zeros(time.size)                # zero array nuc[i] values (number of time steps)  \n",
    "      \n",
    "\n",
    "    nuc[0] = start_atoms   # assigns initial number of nuclei as the initial conditon (nuc[i], when i=0)\n",
    "    \n",
    "    for i in range(0, N_dt):                   # i=0,1,...,N_dt-1\n",
    "        dx = -nuc[i]/tau\n",
    "        nuc_m = nuc[i] +0.5*dt*dx\n",
    "        dx2 = -nuc_m/tau\n",
    "        nuc[i+1] = nuc[i]+dt*dx2  #  2nd order Runge-Kutta method\n",
    "    return time, nuc"
   ]
  },
  {
   "cell_type": "code",
   "execution_count": 60,
   "metadata": {
    "collapsed": false
   },
   "outputs": [],
   "source": [
    "def decay_solve(start_atoms, tau, time_max, dt, method='euler'):    \n",
    "    \"\"\"\n",
    "    Python Program simulating radioactive decay.\n",
    "    Calculates numercial solution to the radioactive decay problem using either \n",
    "    the Euler method or 2nd order Runge-Kutta Method.\n",
    "    \n",
    "    If method is 'euler' (or omitted), return numerical solutions using the Euler method. Otherwise,\n",
    "    return numerical solutions using the the 2nd order Runge-Kutta method\n",
    "    \"\"\"\n",
    "    if method == 'euler':\n",
    "        return calc_euler(start_atoms, tau, time_max, dt)\n",
    "    else:\n",
    "        return calc_runge(start_atoms, tau, time_max, dt)"
   ]
  },
  {
   "cell_type": "code",
   "execution_count": 61,
   "metadata": {
    "collapsed": false
   },
   "outputs": [],
   "source": [
    "time_e, nuc_e = decay_solve(start_atoms=1000, tau=1, time_max=10, dt=0.5, method='euler')\n",
    "time_r, nuc_r = decay_solve(start_atoms=1000, tau=1, time_max=10, dt=0.5, method='runge')"
   ]
  },
  {
   "cell_type": "code",
   "execution_count": 63,
   "metadata": {
    "collapsed": false
   },
   "outputs": [],
   "source": [
    "plt.figure()\n",
    "\n",
    "plt.plot(time_e, nuc_e, 'k-',time_r,nuc_r,'b-') \n",
    "\n",
    "ax = plt.gca()\n",
    "\n",
    "ax.set_title(\"Radioactive Decay (N0 = 100, tau=1, dt=0.05)\", family='monospace',\\\n",
    "size=16, weight='bold')\n",
    "\n",
    "ax.set_xlabel(\"Time [seconds]\")\n",
    "ax.set_ylabel(\"Number of Nuclei\")\n",
    "\n",
    "ax.set_xticklabels(ax.get_xticks(), family='monospace', fontsize=10)\n",
    "ax.set_yticklabels(ax.get_yticks(), family='monospace', fontsize=10)\n",
    "\n",
    "ax.legend((\"Euler\", \"2nd order Runge-Kutta\"),fontsize=10)\n",
    "plt.show()"
   ]
  },
  {
   "cell_type": "code",
   "execution_count": null,
   "metadata": {
    "collapsed": true
   },
   "outputs": [],
   "source": []
  }
 ],
 "metadata": {
  "kernelspec": {
   "display_name": "Python 2",
   "language": "python",
   "name": "python2"
  },
  "language_info": {
   "codemirror_mode": {
    "name": "ipython",
    "version": 2
   },
   "file_extension": ".py",
   "mimetype": "text/x-python",
   "name": "python",
   "nbconvert_exporter": "python",
   "pygments_lexer": "ipython2",
   "version": "2.7.11"
  }
 },
 "nbformat": 4,
 "nbformat_minor": 0
}
