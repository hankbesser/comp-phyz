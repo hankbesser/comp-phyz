{
 "cells": [
  {
   "cell_type": "markdown",
   "metadata": {},
   "source": [
    "Henry (Hank) Besser"
   ]
  },
  {
   "cell_type": "markdown",
   "metadata": {},
   "source": [
    "- Importing the NumPy and PlyPlot modules and assigning them shorter, more useable aliases (i.e. np and plt, respectively). Also making sure the figures show up inline using a magic function (%matplotlib inline) for overall coherency of the report. "
   ]
  },
  {
   "cell_type": "code",
   "execution_count": 1,
   "metadata": {
    "collapsed": true
   },
   "outputs": [],
   "source": [
    "import numpy as np\n",
    "import matplotlib.pyplot as plt\n",
    "%matplotlib inline"
   ]
  },
  {
   "cell_type": "markdown",
   "metadata": {},
   "source": [
    "### Problem under study: exploring a model of the viral load"
   ]
  },
  {
   "cell_type": "markdown",
   "metadata": {},
   "source": [
    "- This is a study for exploring a model to predict the number of virions in the blood of a patient infected with HIV— after the administration of an antiretroviral drug\n",
    "\n",
    "- The model for the viral load explained--\n",
    "Equation 1: \\begin{equation*}\n",
    " V(t)  = A\\exp(-\\alpha t) + B\\exp(-\\beta t)\n",
    "\\end{equation*}\n",
    "\n",
    "- This one model predicts that the concentration $\\ V(t)$ of HIV in the in the blood at time$\\ t$ after the start of the treatment."
   ]
  },
  {
   "cell_type": "markdown",
   "metadata": {},
   "source": [
    "-----------------------------------"
   ]
  },
  {
   "cell_type": "markdown",
   "metadata": {},
   "source": [
    "## Part A: Explore the Model"
   ]
  },
  {
   "cell_type": "markdown",
   "metadata": {},
   "source": [
    "- An array with 101 numbers ranging from to 0 to 100 (evenly spaced) and assigning this array to the variable \"time\""
   ]
  },
  {
   "cell_type": "code",
   "execution_count": 2,
   "metadata": {
    "collapsed": false
   },
   "outputs": [],
   "source": [
    "time = np.linspace(0,100,101)"
   ]
  },
  {
   "cell_type": "markdown",
   "metadata": {},
   "source": [
    "#### Evaluating a compound expression using this array above assigned to variable \"time\" "
   ]
  },
  {
   "cell_type": "markdown",
   "metadata": {},
   "source": [
    "- Assigning the 4 parameters $\\ A$, $\\ B$, $\\alpha, \\beta$ --each with an array of specific values. The values assigned to the 4 parameters as arrays all with same dimensions. These arrays represent the values assigned to the parameters in sequential. "
   ]
  },
  {
   "cell_type": "code",
   "execution_count": 3,
   "metadata": {
    "collapsed": true
   },
   "outputs": [],
   "source": [
    "A = np.array([1000.0,4000.0,9000.0,5000.0])\n",
    "B = np.array([0.0,10.0,20.0,40.0])\n",
    "\n",
    "alpha = np.array([0.01, 0.03,0.04,0.06])\n",
    "beta = np.array([100000000.0,200000000.0,100000.0,8000000.0])"
   ]
  },
  {
   "cell_type": "markdown",
   "metadata": {},
   "source": [
    "#### Evaluating of $\\ V(t)$, implementing a for-loop to evaluate $\\ V(t)$ i times (the length of the array for each parameter--in this case 4).   "
   ]
  },
  {
   "cell_type": "markdown",
   "metadata": {},
   "source": [
    "- Also, a zero matrix with viral_load[i] number of values (note: could use any of the 4 - Also, a zero matrix with viral_load[i] number of values (note: could use any of the 4 parameters to specify the number of the rows in the zero matrix as they all must have the same dimensions). "
   ]
  },
  {
   "cell_type": "code",
   "execution_count": 4,
   "metadata": {
    "collapsed": false
   },
   "outputs": [],
   "source": [
    "viral_load = np.zeros((len(A),len(time)))"
   ]
  },
  {
   "cell_type": "code",
   "execution_count": 5,
   "metadata": {
    "collapsed": false
   },
   "outputs": [],
   "source": [
    "# For-loop syntax for coding the viral load model \n",
    "# explained earlier in report\n",
    "for i in np.arange(0,len(A)):\n",
    "    # sequence for storing the values in viral_load[i] matricies \n",
    "    viral_load[i] = A[i] * np.exp(-alpha[i]*time) + B[i] *\\\n",
    "                        np.exp(-beta[i]*time)"
   ]
  },
  {
   "cell_type": "markdown",
   "metadata": {},
   "source": [
    "- Visualzing each plot on the same graph (as specified in class) "
   ]
  },
  {
   "cell_type": "code",
   "execution_count": 6,
   "metadata": {
    "collapsed": false
   },
   "outputs": [
    {
     "data": {
      "text/plain": [
       "[<matplotlib.lines.Line2D at 0x86a0048>]"
      ]
     },
     "execution_count": 6,
     "metadata": {},
     "output_type": "execute_result"
    },
    {
     "data": {
      "image/png": "[encoded data removed]",
      "text/plain": [
       "<matplotlib.figure.Figure at 0x855f1d0>"
      ]
     },
     "metadata": {},
     "output_type": "display_data"
    }
   ],
   "source": [
    "plt.figure()\n",
    "plt.plot(time,viral_load[0])\n",
    "plt.plot(time,viral_load[1])\n",
    "plt.plot(time,viral_load[2])\n",
    "plt.plot(time,viral_load[3])"
   ]
  },
  {
   "cell_type": "markdown",
   "metadata": {},
   "source": [
    "#### Figure 1:\n",
    "\n",
    "Implementing a few plots with different values of the four model parameters--all on the same graph (as specified in class). No labels for axes or title as this was merely a way to get an understanding of the equation. "
   ]
  },
  {
   "cell_type": "markdown",
   "metadata": {},
   "source": [
    "-----------------------------------------------------------------------------"
   ]
  },
  {
   "cell_type": "markdown",
   "metadata": {},
   "source": [
    "## Part B: Loading experimental data"
   ]
  },
  {
   "cell_type": "markdown",
   "metadata": {},
   "source": [
    "- Importing the data contained in an object and inspecting the content of the object "
   ]
  },
  {
   "cell_type": "code",
   "execution_count": 7,
   "metadata": {
    "collapsed": false
   },
   "outputs": [],
   "source": [
    "HIV_data_set = np.load(\"HIVseries.npz\")"
   ]
  },
  {
   "cell_type": "code",
   "execution_count": 8,
   "metadata": {
    "collapsed": false
   },
   "outputs": [
    {
     "data": {
      "text/plain": [
       "['time_in_days', 'viral_load']"
      ]
     },
     "execution_count": 8,
     "metadata": {},
     "output_type": "execute_result"
    }
   ],
   "source": [
    "HIV_data_set.keys()"
   ]
  },
  {
   "cell_type": "markdown",
   "metadata": {},
   "source": [
    "- There are two keys. \n",
    "\n",
    "- Assigning the data in these two arrays to variables (being explicit). Also, inspecting the values contained in the two arrays. "
   ]
  },
  {
   "cell_type": "code",
   "execution_count": 9,
   "metadata": {
    "collapsed": false
   },
   "outputs": [
    {
     "data": {
      "text/plain": [
       "array([ 0.    ,  0.0831,  0.1465,  0.2587,  0.4828,  0.7448,  0.9817,\n",
       "        1.2563,  1.4926,  1.7299,  1.9915,  3.0011,  4.0109,  5.009 ,\n",
       "        5.9943,  7.0028])"
      ]
     },
     "execution_count": 9,
     "metadata": {},
     "output_type": "execute_result"
    }
   ],
   "source": [
    "time = HIV_data_set['time_in_days']\n",
    "time"
   ]
  },
  {
   "cell_type": "code",
   "execution_count": 10,
   "metadata": {
    "collapsed": false
   },
   "outputs": [
    {
     "data": {
      "text/plain": [
       "array([ 106100. ,   93240. ,  166720. ,  153780. ,  118800. ,  116900. ,\n",
       "        109570. ,  111350. ,   74388. ,   83291. ,   66435. ,   35408. ,\n",
       "         21125. ,   20450. ,   15798. ,    4785.2])"
      ]
     },
     "execution_count": 10,
     "metadata": {},
     "output_type": "execute_result"
    }
   ],
   "source": [
    "concentration = HIV_data_set['viral_load']\n",
    "concentration"
   ]
  },
  {
   "cell_type": "markdown",
   "metadata": {},
   "source": [
    "------------------"
   ]
  },
  {
   "cell_type": "markdown",
   "metadata": {},
   "source": [
    "## Part C: Fit Experimental Data "
   ]
  },
  {
   "cell_type": "markdown",
   "metadata": {},
   "source": [
    "#### Plotting the viral data that was previously imported."
   ]
  },
  {
   "cell_type": "code",
   "execution_count": 11,
   "metadata": {
    "collapsed": false
   },
   "outputs": [
    {
     "data": {
      "text/plain": [
       "[<matplotlib.text.Text at 0x86b1208>,\n",
       " <matplotlib.text.Text at 0x88623c8>,\n",
       " <matplotlib.text.Text at 0x88d0f98>,\n",
       " <matplotlib.text.Text at 0x88d9438>,\n",
       " <matplotlib.text.Text at 0x88d9a90>,\n",
       " <matplotlib.text.Text at 0x88c5be0>,\n",
       " <matplotlib.text.Text at 0x88d9f28>,\n",
       " <matplotlib.text.Text at 0x89615c0>,\n",
       " <matplotlib.text.Text at 0x8961c18>,\n",
       " <matplotlib.text.Text at 0x896b2b0>]"
      ]
     },
     "execution_count": 11,
     "metadata": {},
     "output_type": "execute_result"
    },
    {
     "data": {
      "image/png": "[encoded data removed]",
      "text/plain": [
       "<matplotlib.figure.Figure at 0x85e3828>"
      ]
     },
     "metadata": {},
     "output_type": "display_data"
    }
   ],
   "source": [
    "plt.figure()\n",
    "\n",
    "plt.plot(time, concentration, 'r.', label=\"Viral Load Data\")       \n",
    "plt.legend()\n",
    "\n",
    "ax = plt.gca()\n",
    "\n",
    "ax.set_title(\"Plotting the Data for Viral Load\\n\\\n",
    "in a HIV-Positive Patient's Blood\\n\",\\\n",
    "family='monospace', size=14, weight='bold')\n",
    "\n",
    "ax.set_xlabel(\"Time since Administration of Treatment [Days]\")\n",
    "ax.set_ylabel(\"Virus Concentration in Blood [au]\")\n",
    "\n",
    "ax.set_xticklabels(ax.get_xticks(), family='monospace', fontsize=10)\n",
    "ax.set_yticklabels(ax.get_yticks(), family='monospace', fontsize=10)\n"
   ]
  },
  {
   "cell_type": "markdown",
   "metadata": {},
   "source": [
    "#### Figure 2: \n",
    "\n",
    "A graph to visualize the experimental data-- making each point a small, red and filled-in circle. Also, there are labels for the axes of the plot and giving the figure a descriptive title.  \n",
    "\n",
    "--------------"
   ]
  },
  {
   "cell_type": "markdown",
   "metadata": {},
   "source": [
    "#### Next Step: Model Fit of Data:\n",
    "\n",
    "- When fitting the plotted data for the viral Load of a HIV-Positive patient's blood it necessary to tune the 4 parameter  of\n",
    "Equation 1: \\begin{equation*}\n",
    " V(t)  = A\\exp(-\\alpha t) + B\\exp(-\\beta t)\n",
    "\\end{equation*}\n",
    "until the model agrees with the data. "
   ]
  },
  {
   "cell_type": "code",
   "execution_count": 12,
   "metadata": {
    "collapsed": false
   },
   "outputs": [
    {
     "data": {
      "image/png": "[encoded data removed]",
      "text/plain": [
       "<matplotlib.figure.Figure at 0x8603160>"
      ]
     },
     "metadata": {},
     "output_type": "display_data"
    }
   ],
   "source": [
    "#Array Implicating Time Since Drug Administered\n",
    "time_fit = np.linspace(0,10,101) \n",
    "A = 170000\n",
    "B = 1000\n",
    "\n",
    "alpha = 0.50 #T-Cell Infection Rate       \n",
    "beta = 0.7  \n",
    "\n",
    "viral_load = A * np.exp(-alpha*time_fit) + B * np.exp(-beta*time_fit)\n",
    "\n",
    "\n",
    "plt.figure()\n",
    "\n",
    "plt.plot(time, concentration, 'r.', time_fit, viral_load, 'b-')      \n",
    "\n",
    "ax = plt.gca()\n",
    "\n",
    "ax.set_title(\"Fitting the Plotted Data for the\\n\\\n",
    "Viral Load of a HIV-Positive Patient's Blood\\n\",\\\n",
    "family='monospace', size=14, weight='bold')\n",
    "\n",
    "ax.set_xlabel(\"Time since Administration of Treatment [Days]\")\n",
    "ax.set_ylabel(\"Virus Concentration in Blood [au]\")\n",
    "\n",
    "ax.set_xticklabels(ax.get_xticks(), family='monospace', fontsize=10)\n",
    "ax.set_yticklabels(ax.get_yticks(), family='monospace', fontsize=10)\n",
    "\n",
    "ax.legend((\"Viral Load Data\", \"Model Fit\"))\n",
    "\n",
    "plt.show()"
   ]
  },
  {
   "cell_type": "markdown",
   "metadata": {},
   "source": [
    "#### Figure 3:\n",
    "\n",
    "It is clear that $\\ V(0)$ depends on the value of $\\ A$ in that $\\ V(0)$, for the model, is equal to the value of $\\ A$. When considering that $\\beta> \\alpha$ at longer times the trial solution behaves similarly: that is the concertation is close to zero only getting infinitesimally smaller at greater times. So now two of variables are accounted for. Playing around with the $B$ parameter in terms of powers of 10, it clear that $B$ affects the steepness/smoothness of exponential curve. Using this systematic approach when B is 1000 curve of the data and the model fit look similar in terms of decay rate. Now $\\alpha$ is the only remaining free parameter and this adjusted very easily. Right around 0.5 the data and the model fit look similar (This is, of course, ignoring the two outlier data points). The plot shows the model and data on the same graph.          "
   ]
  },
  {
   "cell_type": "markdown",
   "metadata": {},
   "source": [
    "------------------"
   ]
  },
  {
   "cell_type": "markdown",
   "metadata": {},
   "source": [
    "## Part D: Comparing inverse of the T-cell infection rate with the Latency period of HIV\n",
    "\n",
    "- When making the free parameter alpha (T-cell infection rate), the inverse of T-cell infection rate (1/alpha) is 20 days (around 3 weeks) -- This is much less time that the latency period of 10 years. One can develop a positive result to HIV in a mere matter of weeks after infected, much less time than the latency period where the patient is not producing symptoms. This also might indicate that T-cell infection (similar to the inverse of e or 0.37) has an exponential relationship in terms of time after one gets infected.  "
   ]
  },
  {
   "cell_type": "markdown",
   "metadata": {},
   "source": [
    "------------------"
   ]
  }
 ],
 "metadata": {
  "anaconda-cloud": {},
  "kernelspec": {
   "display_name": "Python [conda root]",
   "language": "python",
   "name": "conda-root-py"
  },
  "language_info": {
   "codemirror_mode": {
    "name": "ipython",
    "version": 3
   },
   "file_extension": ".py",
   "mimetype": "text/x-python",
   "name": "python",
   "nbconvert_exporter": "python",
   "pygments_lexer": "ipython3",
   "version": "3.5.2"
  }
 },
 "nbformat": 4,
 "nbformat_minor": 0
}
