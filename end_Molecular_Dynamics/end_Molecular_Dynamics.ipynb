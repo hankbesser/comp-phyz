{
 "cells": [
  {
   "cell_type": "markdown",
   "metadata": {},
   "source": [
    "Henry (Hank) Besser"
   ]
  },
  {
   "cell_type": "code",
   "execution_count": 1,
   "metadata": {
    "collapsed": true
   },
   "outputs": [],
   "source": [
    "%matplotlib inline\n",
    "import numpy as np\n",
    "import matplotlib.pyplot as plt\n",
    "import pandas as pd\n",
    "pd.options.display.max_rows = 12"
   ]
  },
  {
   "cell_type": "markdown",
   "metadata": {},
   "source": [
    "### Problem under study: "
   ]
  },
  {
   "cell_type": "markdown",
   "metadata": {},
   "source": [
    "For this exercise there is the task of analyzing a non-equilibrium property of proteins, the diffusion of heat. This requires some knowledge about the foundations of statistical physics, but more pertinent to this exercise, is intuitively understanding the results of a pre-run molecular dynamics simulation. "
   ]
  },
  {
   "cell_type": "markdown",
   "metadata": {},
   "source": [
    "The objective is to determine the thermal diffusivity of the system.For the pre-run simulation, the temperature in the outer layer of the water sphere is 200 K, while the rest of the bubble has a temperature of 300 K. By exploring the change of the system’s temperature and comparing it to the theoretical expression, the thermal diffusivity will determined."
   ]
  },
  {
   "cell_type": "markdown",
   "metadata": {},
   "source": [
    "#### Heat diffusion:"
   ]
  },
  {
   "cell_type": "markdown",
   "metadata": {},
   "source": [
    "Time dependence of temperature $T(\\vec{r}, t)$\n",
    "is controlled by the heat diffusion equation:\n",
    "\n",
    "$$ Equation 1:\\\\  \\frac{\\partial T(\\vec{r}, t)}{\\partial t} = D \\nabla^2 T(\\vec{r}, t) $$\n",
    "\n",
    "\n",
    "This is affected by initial and boundary conditions, for a sphere of\n",
    "radius $R$."
   ]
  },
  {
   "cell_type": "markdown",
   "metadata": {},
   "source": [
    "The average temperature of this system that depends on time is:\n",
    "\n",
    "$$ Equation 2:  T(t) - T_{bath} + 6* \\frac{T_{sim}-T_{bath}}{\\pi^2}\\sum_{n=1}^{\\infty} \\frac{1}{n^2} exp[-(\\frac{n\\pi}{R})^2 Dt] $$\n",
    "\n",
    "\n",
    "where $D$ is the thermal diffusivity, $T_{bath}$ = 200 K is the initial temperature of the sphere, and $T_{sim}$ =300 K is the temperature of the sphere’s boundary, and the sphere has a radius $R$ = 2.5 nm."
   ]
  },
  {
   "cell_type": "markdown",
   "metadata": {},
   "source": [
    "### Methods: Thorough Descriptions"
   ]
  },
  {
   "cell_type": "markdown",
   "metadata": {},
   "source": [
    "Importing the data contained in an object and inspecting the content of the object "
   ]
  },
  {
   "cell_type": "code",
   "execution_count": 2,
   "metadata": {
    "collapsed": true
   },
   "outputs": [],
   "source": [
    "load_data = np.loadtxt(\"temperature_log.txt\")"
   ]
  },
  {
   "cell_type": "markdown",
   "metadata": {},
   "source": [
    "For easy viewing, loading the imported imported into a pandas dataframe.\n",
    "\n",
    "\n",
    "This is the raw data where the average temperature is extracted at every 25 steps (50 fs). Using molecular dynamics the simulation trajectory for this system is 10 ps using a 2 fs time steps."
   ]
  },
  {
   "cell_type": "code",
   "execution_count": 3,
   "metadata": {
    "collapsed": false
   },
   "outputs": [
    {
     "data": {
      "text/html": [
       "<div>\n",
       "<table border=\"1\" class=\"dataframe\">\n",
       "  <thead>\n",
       "    <tr style=\"text-align: right;\">\n",
       "      <th></th>\n",
       "      <th>Step Number [1 step = 2 fs]</th>\n",
       "      <th>Temperature [K]</th>\n",
       "    </tr>\n",
       "  </thead>\n",
       "  <tbody>\n",
       "    <tr>\n",
       "      <th>0</th>\n",
       "      <td>0.0</td>\n",
       "      <td>297.2882</td>\n",
       "    </tr>\n",
       "    <tr>\n",
       "      <th>1</th>\n",
       "      <td>25.0</td>\n",
       "      <td>276.7243</td>\n",
       "    </tr>\n",
       "    <tr>\n",
       "      <th>2</th>\n",
       "      <td>50.0</td>\n",
       "      <td>275.2291</td>\n",
       "    </tr>\n",
       "    <tr>\n",
       "      <th>3</th>\n",
       "      <td>75.0</td>\n",
       "      <td>271.8030</td>\n",
       "    </tr>\n",
       "    <tr>\n",
       "      <th>4</th>\n",
       "      <td>100.0</td>\n",
       "      <td>280.2518</td>\n",
       "    </tr>\n",
       "    <tr>\n",
       "      <th>5</th>\n",
       "      <td>125.0</td>\n",
       "      <td>273.5691</td>\n",
       "    </tr>\n",
       "    <tr>\n",
       "      <th>...</th>\n",
       "      <td>...</td>\n",
       "      <td>...</td>\n",
       "    </tr>\n",
       "    <tr>\n",
       "      <th>195</th>\n",
       "      <td>4875.0</td>\n",
       "      <td>207.6688</td>\n",
       "    </tr>\n",
       "    <tr>\n",
       "      <th>196</th>\n",
       "      <td>4900.0</td>\n",
       "      <td>209.3152</td>\n",
       "    </tr>\n",
       "    <tr>\n",
       "      <th>197</th>\n",
       "      <td>4925.0</td>\n",
       "      <td>212.5485</td>\n",
       "    </tr>\n",
       "    <tr>\n",
       "      <th>198</th>\n",
       "      <td>4950.0</td>\n",
       "      <td>207.3934</td>\n",
       "    </tr>\n",
       "    <tr>\n",
       "      <th>199</th>\n",
       "      <td>4975.0</td>\n",
       "      <td>208.7922</td>\n",
       "    </tr>\n",
       "    <tr>\n",
       "      <th>200</th>\n",
       "      <td>5000.0</td>\n",
       "      <td>210.0155</td>\n",
       "    </tr>\n",
       "  </tbody>\n",
       "</table>\n",
       "<p>201 rows × 2 columns</p>\n",
       "</div>"
      ],
      "text/plain": [
       "     Step Number [1 step = 2 fs]  Temperature [K]\n",
       "0                            0.0         297.2882\n",
       "1                           25.0         276.7243\n",
       "2                           50.0         275.2291\n",
       "3                           75.0         271.8030\n",
       "4                          100.0         280.2518\n",
       "5                          125.0         273.5691\n",
       "..                           ...              ...\n",
       "195                       4875.0         207.6688\n",
       "196                       4900.0         209.3152\n",
       "197                       4925.0         212.5485\n",
       "198                       4950.0         207.3934\n",
       "199                       4975.0         208.7922\n",
       "200                       5000.0         210.0155\n",
       "\n",
       "[201 rows x 2 columns]"
      ]
     },
     "execution_count": 3,
     "metadata": {},
     "output_type": "execute_result"
    }
   ],
   "source": [
    "time_steps_data_set = pd.DataFrame(load_data, columns=['Step Number [1 step = 2 fs]', 'Temperature [K]'])\n",
    "time_steps_data_set"
   ]
  },
  {
   "cell_type": "markdown",
   "metadata": {},
   "source": [
    "Now, making the dataframe represent the time of simulation instead of the step number for plotting purposes. This is easy as 1 step is equivalent to 2 fs. Therefore, multiplying the first (indexed) column in the data frame would accomplish this task. The total time of the extracted data (average temperature is extracted at every 50 fs) for the simulation to run is 10000 fs."
   ]
  },
  {
   "cell_type": "code",
   "execution_count": 4,
   "metadata": {
    "collapsed": false
   },
   "outputs": [
    {
     "data": {
      "text/html": [
       "<div>\n",
       "<table border=\"1\" class=\"dataframe\">\n",
       "  <thead>\n",
       "    <tr style=\"text-align: right;\">\n",
       "      <th></th>\n",
       "      <th>Time [fs}_____</th>\n",
       "      <th>Temperature [K]</th>\n",
       "    </tr>\n",
       "  </thead>\n",
       "  <tbody>\n",
       "    <tr>\n",
       "      <th>0</th>\n",
       "      <td>0.0</td>\n",
       "      <td>297.2882</td>\n",
       "    </tr>\n",
       "    <tr>\n",
       "      <th>1</th>\n",
       "      <td>50.0</td>\n",
       "      <td>276.7243</td>\n",
       "    </tr>\n",
       "    <tr>\n",
       "      <th>2</th>\n",
       "      <td>100.0</td>\n",
       "      <td>275.2291</td>\n",
       "    </tr>\n",
       "    <tr>\n",
       "      <th>3</th>\n",
       "      <td>150.0</td>\n",
       "      <td>271.8030</td>\n",
       "    </tr>\n",
       "    <tr>\n",
       "      <th>4</th>\n",
       "      <td>200.0</td>\n",
       "      <td>280.2518</td>\n",
       "    </tr>\n",
       "    <tr>\n",
       "      <th>5</th>\n",
       "      <td>250.0</td>\n",
       "      <td>273.5691</td>\n",
       "    </tr>\n",
       "    <tr>\n",
       "      <th>...</th>\n",
       "      <td>...</td>\n",
       "      <td>...</td>\n",
       "    </tr>\n",
       "    <tr>\n",
       "      <th>195</th>\n",
       "      <td>9750.0</td>\n",
       "      <td>207.6688</td>\n",
       "    </tr>\n",
       "    <tr>\n",
       "      <th>196</th>\n",
       "      <td>9800.0</td>\n",
       "      <td>209.3152</td>\n",
       "    </tr>\n",
       "    <tr>\n",
       "      <th>197</th>\n",
       "      <td>9850.0</td>\n",
       "      <td>212.5485</td>\n",
       "    </tr>\n",
       "    <tr>\n",
       "      <th>198</th>\n",
       "      <td>9900.0</td>\n",
       "      <td>207.3934</td>\n",
       "    </tr>\n",
       "    <tr>\n",
       "      <th>199</th>\n",
       "      <td>9950.0</td>\n",
       "      <td>208.7922</td>\n",
       "    </tr>\n",
       "    <tr>\n",
       "      <th>200</th>\n",
       "      <td>10000.0</td>\n",
       "      <td>210.0155</td>\n",
       "    </tr>\n",
       "  </tbody>\n",
       "</table>\n",
       "<p>201 rows × 2 columns</p>\n",
       "</div>"
      ],
      "text/plain": [
       "     Time [fs}_____  Temperature [K]\n",
       "0               0.0         297.2882\n",
       "1              50.0         276.7243\n",
       "2             100.0         275.2291\n",
       "3             150.0         271.8030\n",
       "4             200.0         280.2518\n",
       "5             250.0         273.5691\n",
       "..              ...              ...\n",
       "195          9750.0         207.6688\n",
       "196          9800.0         209.3152\n",
       "197          9850.0         212.5485\n",
       "198          9900.0         207.3934\n",
       "199          9950.0         208.7922\n",
       "200         10000.0         210.0155\n",
       "\n",
       "[201 rows x 2 columns]"
      ]
     },
     "execution_count": 4,
     "metadata": {},
     "output_type": "execute_result"
    }
   ],
   "source": [
    "total_time_data_set = pd.DataFrame.from_items([('Time [fs}_____', load_data[:,0]*2),\n",
    "                                               ('Temperature [K]',load_data[:,1])])\n",
    "total_time_data_set"
   ]
  },
  {
   "cell_type": "markdown",
   "metadata": {},
   "source": [
    "Calling the columns and assigning them explicit names to be stored as arrays for eventually plotting the simulation data."
   ]
  },
  {
   "cell_type": "code",
   "execution_count": 5,
   "metadata": {
    "collapsed": false
   },
   "outputs": [],
   "source": [
    "x_to_fit = load_data[:,0]*2\n",
    "y_to_fit = load_data[:,1]"
   ]
  },
  {
   "cell_type": "markdown",
   "metadata": {},
   "source": [
    "### Analysis: explained methods for curve fitting and finding desired parameters"
   ]
  },
  {
   "cell_type": "markdown",
   "metadata": {
    "collapsed": true
   },
   "source": [
    "### Strategy for curve fiiting: scipy.optimize.curve_fit - General purpose curve fitting module interfaced to an efficient backend."
   ]
  },
  {
   "cell_type": "markdown",
   "metadata": {},
   "source": [
    "optimize.curve_fit- One of the methods SciPy provides for fitting a curve to data points. The fitted curve is a much cleaner way to represent the data."
   ]
  },
  {
   "cell_type": "markdown",
   "metadata": {},
   "source": [
    "Using `curve_fit()` to find the best fit for the parameters in the data. Inspecting the data, the curve is an exponential decay. Therefore the equation $y= a*\\exp^(-b*d*x)+c$ , can be used as the function to optimize the curve. The method requires an initial guess for the parameters but as we are provided with all the parameters, besides the diffusion $D$ (represented by the $d$ in  the exponential function). $c$ is 200 (the exponential decay presumably converges to this value). The function is a function of x, where x is the time of the simulation (provided). $a$ was guessed to be around 60 from the $6* \\frac{T_{sim}-T_{bath}}{pi^2}$ term. The last given parameter $b$ was harder to guess as it represents multiple constants in equation 2 but after some hand calculation this value induced optimal paramters with low error at around 0.0145.  "
   ]
  },
  {
   "cell_type": "code",
   "execution_count": null,
   "metadata": {
    "collapsed": false
   },
   "outputs": [],
   "source": [
    "from scipy.optimize import curve_fit\n",
    "\n",
    "#The function and paremters previously descibed \n",
    "def func(x, a, b, c, d):\n",
    "    return a*np.exp(-b*d*x)+c\n",
    "\n",
    "\n",
    "\n",
    "# curve fit function takes 4 values\n",
    "#1. The exponential function\n",
    "#2. x_to_fit is the time of simulation  \n",
    "#3. y_to_fit is the noisy data produced and in which we are trying to fit\n",
    "#4. The initial guess of the 4 parameters in which the function of time depends on time\n",
    "\n",
    "# The curve fit function returns two values (both in array form)\n",
    "#1. p_est: Optimal values for the parameters \n",
    "#          so that the sum of the squared error is minimized  \n",
    "#2. err_est: the covariance matrix of the estimates for the paramters,\n",
    "#            The diagonals are the variances of the individual parameters.\n",
    "\n",
    "p_est, err_est = curve_fit(func, x_to_fit, y_to_fit,[60.00,0.0146,200,0.095])    "
   ]
  },
  {
   "cell_type": "markdown",
   "metadata": {},
   "source": [
    "## Results:"
   ]
  },
  {
   "cell_type": "markdown",
   "metadata": {},
   "source": [
    "#### Plotting the optimal curve fit for the noisy average temperature data "
   ]
  },
  {
   "cell_type": "code",
   "execution_count": 7,
   "metadata": {
    "collapsed": false
   },
   "outputs": [
    {
     "data": {
      "image/png": "[encoded data removed]",
      "text/plain": [
       "<matplotlib.figure.Figure at 0xa9042b0>"
      ]
     },
     "metadata": {},
     "output_type": "display_data"
    }
   ],
   "source": [
    "plt.figure()\n",
    "ax = plt.gca()\n",
    "\n",
    "plt.plot(x_to_fit, y_to_fit,color='black', markersize=8, linestyle='-')\n",
    "plt.plot(x_to_fit, func(x_to_fit, *p_est), color='magenta', linewidth=2)\n",
    "    \n",
    "ax.set_xlabel(\"Time [fs]\")\n",
    "ax.set_ylabel(\"Temperature [K]\")\n",
    "\n",
    "ax.set_title('Cooling of Ubiquitin: Temperature v. Time:\\n\\\n",
    "Time Step = 2 fs', family='monospace',size=10, weight='bold')\n",
    "\n",
    "ax.legend((\"Simulation Data\", \"Model Fit\"),\\\n",
    "          title= 'Average Temperature [K]:', loc=1, fontsize=9)\n",
    "plt.show()"
   ]
  },
  {
   "cell_type": "markdown",
   "metadata": {
    "collapsed": false
   },
   "source": [
    "### Figure 1: \n",
    "\n",
    "Cooling of ubiquitin in a water sphere. The magenta curve is the exponential fit of the noisy average temperature data [in K] to the expression represented by equation 2 (which a function dependent on time). Pre-run simulation details: The time step = 2 fs and average temperature is extracted at every 50 fs for this pre-run simulation."
   ]
  },
  {
   "cell_type": "markdown",
   "metadata": {},
   "source": [
    "#### Printing parameter estimates\n",
    "#### The last value in the array p_est (parameter estimate) is the unscaled DIFFUSION Constant."
   ]
  },
  {
   "cell_type": "code",
   "execution_count": 8,
   "metadata": {
    "collapsed": false
   },
   "outputs": [
    {
     "name": "stdout",
     "output_type": "stream",
     "text": [
      "[  7.42342561e+01   5.86025146e-03   2.03183860e+02   4.23048332e-02]\n"
     ]
    }
   ],
   "source": [
    "print(\"Parameter Estimate: {0}\".format(p_est))"
   ]
  },
  {
   "cell_type": "markdown",
   "metadata": {},
   "source": [
    "- To get the thermal diffusivity parameter for comparing with the thermal diffusivity of water ($ D = 1.4 * 10^{ - 3} cm^{2} s^{ - 1}$)  Multiply the value of the $d$ (diffusivity) parameter by 0.1 to get the thermal diffusivity in $cm^2 s^{ - 1}$\n",
    "\n",
    "\n",
    "- From the printed out array the thermal diffusivity parameter that optimally fits the curve is approximately 0.0423 and multiplying by 0.1 gives 0.00423 which is:\n",
    "\n",
    "\n",
    "#### $D =  0.423*10^{ - 2} cm^{2} s^{ - 1}$ "
   ]
  },
  {
   "cell_type": "markdown",
   "metadata": {},
   "source": [
    "#### The amount of variation explained by the model ( given by the the diagonals of the covariance matrix) are minimal as all the parameters for the simulation --besides the thermal diffusivity parameter-- were provided. "
   ]
  },
  {
   "cell_type": "code",
   "execution_count": 9,
   "metadata": {
    "collapsed": false
   },
   "outputs": [
    {
     "name": "stdout",
     "output_type": "stream",
     "text": [
      "[[  6.20448523e-01  -1.83962071e-05  -4.85303294e-01  -3.78355499e-04]\n",
      " [ -4.15178329e-05  -8.69609686e+06   9.57930794e-05   6.27766452e+07]\n",
      " [ -4.85303294e-01   4.97200263e-05   8.09788191e-01   8.38191947e-04]\n",
      " [ -2.11441754e-04   6.27766452e+07   5.05593109e-04  -4.53181151e+08]]\n"
     ]
    }
   ],
   "source": [
    "print(\"Covariance Matrix: {0}\".format(err_est))"
   ]
  },
  {
   "cell_type": "markdown",
   "metadata": {
    "collapsed": true
   },
   "source": [
    "#### Comparing the thermal diffusivity for this system \n",
    "\n",
    "(approximately $D =  0.423 * 10^{ - 2} cm^{2} s^{ - 1}$)  with the thermal diffusivity of water ($ D = 1.4 * 10^{ - 3} cm^{2} s^{ - 1}$)"
   ]
  },
  {
   "cell_type": "markdown",
   "metadata": {
    "collapsed": true
   },
   "source": [
    "This value for the thermal diffusivity for this system is approximately $3.2$ times larger thermal diffusivity of water larger than value for the thermal diffusivity of water. This makes sense as cooling of ubiquitin in a water is simulated, where an exponential average temperature drop is visualized in figure 1. The $T_{bath}$ = 200 K is the initial temperature of the sphere, and $T_{sim}$ =300 K is the temperature of the sphere’s boundary."
   ]
  },
  {
   "cell_type": "markdown",
   "metadata": {
    "collapsed": false
   },
   "source": [
    "Last, Computing the thermal conductivity of the system, $K$:\n",
    "$K=pc_{V}D$, \n",
    "\n",
    "where $c_{V}$ is the specific heat $(5050 J Kg^{-1}Kg^{-1})$ and $D$ is the thermal diffusivity. The density\n",
    "of the system, $p$ is 1 g/mL."
   ]
  },
  {
   "cell_type": "markdown",
   "metadata": {
    "collapsed": false
   },
   "source": [
    "Thermal conductivity of the system = $ 1*0.423*10^{-2} * 5050 $ $W/(mK)$ is approximately $21.36$ $W/(mK)$ \n"
   ]
  }
 ],
 "metadata": {
  "anaconda-cloud": {},
  "kernelspec": {
   "display_name": "Python [conda root]",
   "language": "python",
   "name": "conda-root-py"
  },
  "language_info": {
   "codemirror_mode": {
    "name": "ipython",
    "version": 3
   },
   "file_extension": ".py",
   "mimetype": "text/x-python",
   "name": "python",
   "nbconvert_exporter": "python",
   "pygments_lexer": "ipython3",
   "version": "3.5.2"
  }
 },
 "nbformat": 4,
 "nbformat_minor": 1
}
